{
 "cells": [
  {
   "cell_type": "markdown",
   "metadata": {
    "id": "CQTHCeMYdUZt"
   },
   "source": [
    "# Modelo de predicción de Churn."
   ]
  },
  {
   "cell_type": "markdown",
   "metadata": {
    "id": "3MlKxXVCkYIP"
   },
   "source": [
    "# Introducción.\n",
    "\n",
    "Para cualquier empresa, los clientes representan su activo más valioso. Adquirir nuevos clientes implica un alto costo en términos de trabajo y tiempo, por lo que perderlos puede generar un impacto significativo en el negocio. Sin embargo, ¿qué pasaría si pudiéramos anticiparnos a la pérdida de clientes y tomar medidas para retenerlos?  \n",
    "\n",
    "A través del uso de técnicas de **Machine Learning**, es posible desarrollar un **modelo de predicción de churn** capaz de identificar qué clientes tienen una alta probabilidad de abandonar el servicio. En este **notebook**, construiremos un modelo de clasificación que analizará información clave, como datos contractuales, servicios de telecomunicaciones y datos personales, para predecir qué clientes podrían darse de baja.  \n",
    "\n",
    "El objetivo final es desarrollar un modelo altamente preciso que permita a la empresa implementar estrategias efectivas de retención, minimizando la pérdida de clientes y optimizando su rentabilidad."
   ]
  },
  {
   "cell_type": "markdown",
   "metadata": {
    "id": "thsxYHsslFmk"
   },
   "source": [
    "# Primera parte: Exploración de datos y plan de trabajo.\n",
    "\n",
    "Esta primera parte del notbook corresponde a la primera etapa del proyecto final de triple ten en la que se realiza anális exploratorio de datos y el plan de trabajo por lo que el revisor de este proyecto puede saltar hasta la siguiente sección que es la correspondiente a la [etapa 2](https://) del proyecto final de triple ten."
   ]
  },
  {
   "cell_type": "markdown",
   "metadata": {
    "id": "d-73RjBGlU1C"
   },
   "source": [
    "## Primeros Pasos  \n",
    "\n",
    "Antes de iniciar el desarrollo del modelo, es fundamental preparar el entorno de trabajo y las herramientas necesarias para el análisis de datos. En este caso, comenzaremos importando las bibliotecas clave, como **pandas**, **numpy** y **matplotlib**, que nos permitirán manipular, analizar y visualizar los datos de manera eficiente.  \n",
    "\n",
    "Además, cargaremos los conjuntos de datos con los que trabajaremos para entrenar y evaluar el modelo de predicción de churn."
   ]
  },
  {
   "cell_type": "code",
   "execution_count": 5,
   "metadata": {
    "id": "BRNBb7LHq_L5"
   },
   "outputs": [],
   "source": [
    "#Importamosa las librerias necesrias para el análisis de datos.\n",
    "import pandas as pd\n",
    "import numpy as np\n",
    "import matplotlib.pyplot as plt"
   ]
  },
  {
   "cell_type": "code",
   "execution_count": 6,
   "metadata": {
    "id": "Q_ChDJsBxjCP"
   },
   "outputs": [],
   "source": [
    "# Creamos los data frames para cada archivo csv.\n",
    "df_contract = pd.read_csv('datasets/contract.csv')\n",
    "df_internet = pd.read_csv('datasets/internet.csv')\n",
    "df_personal = pd.read_csv('datasets/personal.csv')\n",
    "df_phone = pd.read_csv('datasets/phone.csv')"
   ]
  },
  {
   "cell_type": "markdown",
   "metadata": {
    "id": "GEreumEFyAjH"
   },
   "source": [
    "## Analisis exploratorio de los datos."
   ]
  },
  {
   "cell_type": "markdown",
   "metadata": {
    "id": "oOWQhjUIyHNH"
   },
   "source": [
    "### Analisis de el data frame df_contract\n",
    "\n"
   ]
  },
  {
   "cell_type": "code",
   "execution_count": 9,
   "metadata": {
    "colab": {
     "base_uri": "https://localhost:8080/"
    },
    "id": "Cc8u5fd3yHpp",
    "outputId": "b5f2c7b5-54b8-4ec7-8538-65935baf85d4"
   },
   "outputs": [
    {
     "name": "stdout",
     "output_type": "stream",
     "text": [
      "<class 'pandas.core.frame.DataFrame'>\n",
      "RangeIndex: 7043 entries, 0 to 7042\n",
      "Data columns (total 8 columns):\n",
      " #   Column            Non-Null Count  Dtype  \n",
      "---  ------            --------------  -----  \n",
      " 0   customerID        7043 non-null   object \n",
      " 1   BeginDate         7043 non-null   object \n",
      " 2   EndDate           7043 non-null   object \n",
      " 3   Type              7043 non-null   object \n",
      " 4   PaperlessBilling  7043 non-null   object \n",
      " 5   PaymentMethod     7043 non-null   object \n",
      " 6   MonthlyCharges    7043 non-null   float64\n",
      " 7   TotalCharges      7043 non-null   object \n",
      "dtypes: float64(1), object(7)\n",
      "memory usage: 440.3+ KB\n"
     ]
    }
   ],
   "source": [
    "# Visualizamos información general del conjunto de datos.\n",
    "df_contract.info()"
   ]
  },
  {
   "cell_type": "markdown",
   "metadata": {
    "id": "2jhbL059XvJy"
   },
   "source": []
  },
  {
   "cell_type": "code",
   "execution_count": 11,
   "metadata": {
    "id": "5KBvVnVY7lf0"
   },
   "outputs": [],
   "source": [
    "# Convertimos la columna TotalCharges a tipo numerico\n",
    "\n",
    "df_contract['TotalCharges'] = pd.to_numeric(df_contract['TotalCharges'], errors='coerce')\n"
   ]
  },
  {
   "cell_type": "code",
   "execution_count": 12,
   "metadata": {
    "colab": {
     "base_uri": "https://localhost:8080/"
    },
    "id": "ev8Ko1CC1hfl",
    "outputId": "96647b13-1745-4097-dc2d-7b5d86d9e4d8"
   },
   "outputs": [
    {
     "data": {
      "text/html": [
       "<div>\n",
       "<style scoped>\n",
       "    .dataframe tbody tr th:only-of-type {\n",
       "        vertical-align: middle;\n",
       "    }\n",
       "\n",
       "    .dataframe tbody tr th {\n",
       "        vertical-align: top;\n",
       "    }\n",
       "\n",
       "    .dataframe thead th {\n",
       "        text-align: right;\n",
       "    }\n",
       "</style>\n",
       "<table border=\"1\" class=\"dataframe\">\n",
       "  <thead>\n",
       "    <tr style=\"text-align: right;\">\n",
       "      <th></th>\n",
       "      <th>customerID</th>\n",
       "      <th>BeginDate</th>\n",
       "      <th>EndDate</th>\n",
       "      <th>Type</th>\n",
       "      <th>PaperlessBilling</th>\n",
       "      <th>PaymentMethod</th>\n",
       "      <th>MonthlyCharges</th>\n",
       "      <th>TotalCharges</th>\n",
       "    </tr>\n",
       "  </thead>\n",
       "  <tbody>\n",
       "    <tr>\n",
       "      <th>5021</th>\n",
       "      <td>6617-WLBQC</td>\n",
       "      <td>2018-03-01</td>\n",
       "      <td>No</td>\n",
       "      <td>One year</td>\n",
       "      <td>No</td>\n",
       "      <td>Credit card (automatic)</td>\n",
       "      <td>81.85</td>\n",
       "      <td>1810.85</td>\n",
       "    </tr>\n",
       "    <tr>\n",
       "      <th>5685</th>\n",
       "      <td>4475-NVTLU</td>\n",
       "      <td>2016-05-01</td>\n",
       "      <td>No</td>\n",
       "      <td>Two year</td>\n",
       "      <td>No</td>\n",
       "      <td>Electronic check</td>\n",
       "      <td>19.20</td>\n",
       "      <td>903.70</td>\n",
       "    </tr>\n",
       "    <tr>\n",
       "      <th>4792</th>\n",
       "      <td>7067-KSAZT</td>\n",
       "      <td>2014-08-01</td>\n",
       "      <td>2020-01-01 00:00:00</td>\n",
       "      <td>One year</td>\n",
       "      <td>Yes</td>\n",
       "      <td>Electronic check</td>\n",
       "      <td>106.25</td>\n",
       "      <td>6979.80</td>\n",
       "    </tr>\n",
       "    <tr>\n",
       "      <th>6467</th>\n",
       "      <td>9494-MRNYX</td>\n",
       "      <td>2019-04-01</td>\n",
       "      <td>No</td>\n",
       "      <td>Month-to-month</td>\n",
       "      <td>No</td>\n",
       "      <td>Electronic check</td>\n",
       "      <td>75.05</td>\n",
       "      <td>786.30</td>\n",
       "    </tr>\n",
       "    <tr>\n",
       "      <th>2393</th>\n",
       "      <td>5136-KCKGI</td>\n",
       "      <td>2017-02-01</td>\n",
       "      <td>2019-11-01 00:00:00</td>\n",
       "      <td>One year</td>\n",
       "      <td>Yes</td>\n",
       "      <td>Mailed check</td>\n",
       "      <td>103.70</td>\n",
       "      <td>3467.00</td>\n",
       "    </tr>\n",
       "    <tr>\n",
       "      <th>2038</th>\n",
       "      <td>9172-JITSM</td>\n",
       "      <td>2017-11-01</td>\n",
       "      <td>2020-01-01 00:00:00</td>\n",
       "      <td>Month-to-month</td>\n",
       "      <td>Yes</td>\n",
       "      <td>Electronic check</td>\n",
       "      <td>90.80</td>\n",
       "      <td>2361.80</td>\n",
       "    </tr>\n",
       "    <tr>\n",
       "      <th>242</th>\n",
       "      <td>7576-ASEJU</td>\n",
       "      <td>2016-09-01</td>\n",
       "      <td>No</td>\n",
       "      <td>One year</td>\n",
       "      <td>Yes</td>\n",
       "      <td>Credit card (automatic)</td>\n",
       "      <td>74.70</td>\n",
       "      <td>3187.65</td>\n",
       "    </tr>\n",
       "    <tr>\n",
       "      <th>6222</th>\n",
       "      <td>0130-SXOUN</td>\n",
       "      <td>2014-08-01</td>\n",
       "      <td>No</td>\n",
       "      <td>Month-to-month</td>\n",
       "      <td>No</td>\n",
       "      <td>Credit card (automatic)</td>\n",
       "      <td>89.40</td>\n",
       "      <td>5976.90</td>\n",
       "    </tr>\n",
       "    <tr>\n",
       "      <th>3637</th>\n",
       "      <td>4083-EUGRJ</td>\n",
       "      <td>2019-02-01</td>\n",
       "      <td>2019-11-01 00:00:00</td>\n",
       "      <td>Month-to-month</td>\n",
       "      <td>No</td>\n",
       "      <td>Mailed check</td>\n",
       "      <td>20.25</td>\n",
       "      <td>178.50</td>\n",
       "    </tr>\n",
       "    <tr>\n",
       "      <th>291</th>\n",
       "      <td>3727-OWVYD</td>\n",
       "      <td>2017-03-01</td>\n",
       "      <td>No</td>\n",
       "      <td>One year</td>\n",
       "      <td>No</td>\n",
       "      <td>Mailed check</td>\n",
       "      <td>61.20</td>\n",
       "      <td>2021.20</td>\n",
       "    </tr>\n",
       "  </tbody>\n",
       "</table>\n",
       "</div>"
      ],
      "text/plain": [
       "      customerID   BeginDate              EndDate            Type  \\\n",
       "5021  6617-WLBQC  2018-03-01                   No        One year   \n",
       "5685  4475-NVTLU  2016-05-01                   No        Two year   \n",
       "4792  7067-KSAZT  2014-08-01  2020-01-01 00:00:00        One year   \n",
       "6467  9494-MRNYX  2019-04-01                   No  Month-to-month   \n",
       "2393  5136-KCKGI  2017-02-01  2019-11-01 00:00:00        One year   \n",
       "2038  9172-JITSM  2017-11-01  2020-01-01 00:00:00  Month-to-month   \n",
       "242   7576-ASEJU  2016-09-01                   No        One year   \n",
       "6222  0130-SXOUN  2014-08-01                   No  Month-to-month   \n",
       "3637  4083-EUGRJ  2019-02-01  2019-11-01 00:00:00  Month-to-month   \n",
       "291   3727-OWVYD  2017-03-01                   No        One year   \n",
       "\n",
       "     PaperlessBilling            PaymentMethod  MonthlyCharges  TotalCharges  \n",
       "5021               No  Credit card (automatic)           81.85       1810.85  \n",
       "5685               No         Electronic check           19.20        903.70  \n",
       "4792              Yes         Electronic check          106.25       6979.80  \n",
       "6467               No         Electronic check           75.05        786.30  \n",
       "2393              Yes             Mailed check          103.70       3467.00  \n",
       "2038              Yes         Electronic check           90.80       2361.80  \n",
       "242               Yes  Credit card (automatic)           74.70       3187.65  \n",
       "6222               No  Credit card (automatic)           89.40       5976.90  \n",
       "3637               No             Mailed check           20.25        178.50  \n",
       "291                No             Mailed check           61.20       2021.20  "
      ]
     },
     "execution_count": 12,
     "metadata": {},
     "output_type": "execute_result"
    }
   ],
   "source": [
    "#Muestra aleatoria de datos.\n",
    "df_contract.sample(10)"
   ]
  },
  {
   "cell_type": "code",
   "execution_count": 13,
   "metadata": {
    "id": "Lc_JtVfKUbJo"
   },
   "outputs": [],
   "source": [
    "# Creamos una lista con los indices de las personas quew han terminado su contrato.\n",
    "\n",
    "index = df_contract[ df_contract.EndDate != 'No' ]"
   ]
  },
  {
   "cell_type": "code",
   "execution_count": 14,
   "metadata": {
    "colab": {
     "base_uri": "https://localhost:8080/"
    },
    "id": "f9mHVWnvX6CQ",
    "outputId": "d9899269-3fc6-4053-b488-35d1386880b2"
   },
   "outputs": [
    {
     "data": {
      "text/html": [
       "<div>\n",
       "<style scoped>\n",
       "    .dataframe tbody tr th:only-of-type {\n",
       "        vertical-align: middle;\n",
       "    }\n",
       "\n",
       "    .dataframe tbody tr th {\n",
       "        vertical-align: top;\n",
       "    }\n",
       "\n",
       "    .dataframe thead th {\n",
       "        text-align: right;\n",
       "    }\n",
       "</style>\n",
       "<table border=\"1\" class=\"dataframe\">\n",
       "  <thead>\n",
       "    <tr style=\"text-align: right;\">\n",
       "      <th></th>\n",
       "      <th>customerID</th>\n",
       "      <th>BeginDate</th>\n",
       "      <th>EndDate</th>\n",
       "      <th>Type</th>\n",
       "      <th>PaperlessBilling</th>\n",
       "      <th>PaymentMethod</th>\n",
       "      <th>MonthlyCharges</th>\n",
       "      <th>TotalCharges</th>\n",
       "    </tr>\n",
       "  </thead>\n",
       "  <tbody>\n",
       "    <tr>\n",
       "      <th>2</th>\n",
       "      <td>3668-QPYBK</td>\n",
       "      <td>2019-10-01</td>\n",
       "      <td>2019-12-01 00:00:00</td>\n",
       "      <td>Month-to-month</td>\n",
       "      <td>Yes</td>\n",
       "      <td>Mailed check</td>\n",
       "      <td>53.85</td>\n",
       "      <td>108.15</td>\n",
       "    </tr>\n",
       "    <tr>\n",
       "      <th>4</th>\n",
       "      <td>9237-HQITU</td>\n",
       "      <td>2019-09-01</td>\n",
       "      <td>2019-11-01 00:00:00</td>\n",
       "      <td>Month-to-month</td>\n",
       "      <td>Yes</td>\n",
       "      <td>Electronic check</td>\n",
       "      <td>70.70</td>\n",
       "      <td>151.65</td>\n",
       "    </tr>\n",
       "    <tr>\n",
       "      <th>5</th>\n",
       "      <td>9305-CDSKC</td>\n",
       "      <td>2019-03-01</td>\n",
       "      <td>2019-11-01 00:00:00</td>\n",
       "      <td>Month-to-month</td>\n",
       "      <td>Yes</td>\n",
       "      <td>Electronic check</td>\n",
       "      <td>99.65</td>\n",
       "      <td>820.50</td>\n",
       "    </tr>\n",
       "    <tr>\n",
       "      <th>8</th>\n",
       "      <td>7892-POOKP</td>\n",
       "      <td>2017-07-01</td>\n",
       "      <td>2019-11-01 00:00:00</td>\n",
       "      <td>Month-to-month</td>\n",
       "      <td>Yes</td>\n",
       "      <td>Electronic check</td>\n",
       "      <td>104.80</td>\n",
       "      <td>3046.05</td>\n",
       "    </tr>\n",
       "    <tr>\n",
       "      <th>13</th>\n",
       "      <td>0280-XJGEX</td>\n",
       "      <td>2015-09-01</td>\n",
       "      <td>2019-10-01 00:00:00</td>\n",
       "      <td>Month-to-month</td>\n",
       "      <td>Yes</td>\n",
       "      <td>Bank transfer (automatic)</td>\n",
       "      <td>103.70</td>\n",
       "      <td>5036.30</td>\n",
       "    </tr>\n",
       "    <tr>\n",
       "      <th>...</th>\n",
       "      <td>...</td>\n",
       "      <td>...</td>\n",
       "      <td>...</td>\n",
       "      <td>...</td>\n",
       "      <td>...</td>\n",
       "      <td>...</td>\n",
       "      <td>...</td>\n",
       "      <td>...</td>\n",
       "    </tr>\n",
       "    <tr>\n",
       "      <th>7021</th>\n",
       "      <td>1699-HPSBG</td>\n",
       "      <td>2018-11-01</td>\n",
       "      <td>2019-11-01 00:00:00</td>\n",
       "      <td>One year</td>\n",
       "      <td>Yes</td>\n",
       "      <td>Electronic check</td>\n",
       "      <td>59.80</td>\n",
       "      <td>727.80</td>\n",
       "    </tr>\n",
       "    <tr>\n",
       "      <th>7026</th>\n",
       "      <td>8775-CEBBJ</td>\n",
       "      <td>2019-02-01</td>\n",
       "      <td>2019-11-01 00:00:00</td>\n",
       "      <td>Month-to-month</td>\n",
       "      <td>Yes</td>\n",
       "      <td>Bank transfer (automatic)</td>\n",
       "      <td>44.20</td>\n",
       "      <td>403.35</td>\n",
       "    </tr>\n",
       "    <tr>\n",
       "      <th>7032</th>\n",
       "      <td>6894-LFHLY</td>\n",
       "      <td>2019-10-01</td>\n",
       "      <td>2019-11-01 00:00:00</td>\n",
       "      <td>Month-to-month</td>\n",
       "      <td>Yes</td>\n",
       "      <td>Electronic check</td>\n",
       "      <td>75.75</td>\n",
       "      <td>75.75</td>\n",
       "    </tr>\n",
       "    <tr>\n",
       "      <th>7034</th>\n",
       "      <td>0639-TSIQW</td>\n",
       "      <td>2014-03-01</td>\n",
       "      <td>2019-10-01 00:00:00</td>\n",
       "      <td>Month-to-month</td>\n",
       "      <td>Yes</td>\n",
       "      <td>Credit card (automatic)</td>\n",
       "      <td>102.95</td>\n",
       "      <td>6886.25</td>\n",
       "    </tr>\n",
       "    <tr>\n",
       "      <th>7041</th>\n",
       "      <td>8361-LTMKD</td>\n",
       "      <td>2019-07-01</td>\n",
       "      <td>2019-11-01 00:00:00</td>\n",
       "      <td>Month-to-month</td>\n",
       "      <td>Yes</td>\n",
       "      <td>Mailed check</td>\n",
       "      <td>74.40</td>\n",
       "      <td>306.60</td>\n",
       "    </tr>\n",
       "  </tbody>\n",
       "</table>\n",
       "<p>1869 rows × 8 columns</p>\n",
       "</div>"
      ],
      "text/plain": [
       "      customerID   BeginDate              EndDate            Type  \\\n",
       "2     3668-QPYBK  2019-10-01  2019-12-01 00:00:00  Month-to-month   \n",
       "4     9237-HQITU  2019-09-01  2019-11-01 00:00:00  Month-to-month   \n",
       "5     9305-CDSKC  2019-03-01  2019-11-01 00:00:00  Month-to-month   \n",
       "8     7892-POOKP  2017-07-01  2019-11-01 00:00:00  Month-to-month   \n",
       "13    0280-XJGEX  2015-09-01  2019-10-01 00:00:00  Month-to-month   \n",
       "...          ...         ...                  ...             ...   \n",
       "7021  1699-HPSBG  2018-11-01  2019-11-01 00:00:00        One year   \n",
       "7026  8775-CEBBJ  2019-02-01  2019-11-01 00:00:00  Month-to-month   \n",
       "7032  6894-LFHLY  2019-10-01  2019-11-01 00:00:00  Month-to-month   \n",
       "7034  0639-TSIQW  2014-03-01  2019-10-01 00:00:00  Month-to-month   \n",
       "7041  8361-LTMKD  2019-07-01  2019-11-01 00:00:00  Month-to-month   \n",
       "\n",
       "     PaperlessBilling              PaymentMethod  MonthlyCharges  TotalCharges  \n",
       "2                 Yes               Mailed check           53.85        108.15  \n",
       "4                 Yes           Electronic check           70.70        151.65  \n",
       "5                 Yes           Electronic check           99.65        820.50  \n",
       "8                 Yes           Electronic check          104.80       3046.05  \n",
       "13                Yes  Bank transfer (automatic)          103.70       5036.30  \n",
       "...               ...                        ...             ...           ...  \n",
       "7021              Yes           Electronic check           59.80        727.80  \n",
       "7026              Yes  Bank transfer (automatic)           44.20        403.35  \n",
       "7032              Yes           Electronic check           75.75         75.75  \n",
       "7034              Yes    Credit card (automatic)          102.95       6886.25  \n",
       "7041              Yes               Mailed check           74.40        306.60  \n",
       "\n",
       "[1869 rows x 8 columns]"
      ]
     },
     "execution_count": 14,
     "metadata": {},
     "output_type": "execute_result"
    }
   ],
   "source": [
    "index"
   ]
  },
  {
   "cell_type": "code",
   "execution_count": 15,
   "metadata": {
    "colab": {
     "base_uri": "https://localhost:8080/"
    },
    "id": "aAh12cKh2Q5K",
    "outputId": "0e9f3cca-433e-4289-94f1-76ac95c682d2"
   },
   "outputs": [
    {
     "data": {
      "text/html": [
       "<div>\n",
       "<style scoped>\n",
       "    .dataframe tbody tr th:only-of-type {\n",
       "        vertical-align: middle;\n",
       "    }\n",
       "\n",
       "    .dataframe tbody tr th {\n",
       "        vertical-align: top;\n",
       "    }\n",
       "\n",
       "    .dataframe thead th {\n",
       "        text-align: right;\n",
       "    }\n",
       "</style>\n",
       "<table border=\"1\" class=\"dataframe\">\n",
       "  <thead>\n",
       "    <tr style=\"text-align: right;\">\n",
       "      <th></th>\n",
       "      <th>customerID</th>\n",
       "      <th>BeginDate</th>\n",
       "      <th>EndDate</th>\n",
       "      <th>Type</th>\n",
       "      <th>PaperlessBilling</th>\n",
       "      <th>PaymentMethod</th>\n",
       "    </tr>\n",
       "  </thead>\n",
       "  <tbody>\n",
       "    <tr>\n",
       "      <th>count</th>\n",
       "      <td>7043</td>\n",
       "      <td>7043</td>\n",
       "      <td>7043</td>\n",
       "      <td>7043</td>\n",
       "      <td>7043</td>\n",
       "      <td>7043</td>\n",
       "    </tr>\n",
       "    <tr>\n",
       "      <th>unique</th>\n",
       "      <td>7043</td>\n",
       "      <td>77</td>\n",
       "      <td>5</td>\n",
       "      <td>3</td>\n",
       "      <td>2</td>\n",
       "      <td>4</td>\n",
       "    </tr>\n",
       "    <tr>\n",
       "      <th>top</th>\n",
       "      <td>7590-VHVEG</td>\n",
       "      <td>2014-02-01</td>\n",
       "      <td>No</td>\n",
       "      <td>Month-to-month</td>\n",
       "      <td>Yes</td>\n",
       "      <td>Electronic check</td>\n",
       "    </tr>\n",
       "    <tr>\n",
       "      <th>freq</th>\n",
       "      <td>1</td>\n",
       "      <td>366</td>\n",
       "      <td>5174</td>\n",
       "      <td>3875</td>\n",
       "      <td>4171</td>\n",
       "      <td>2365</td>\n",
       "    </tr>\n",
       "  </tbody>\n",
       "</table>\n",
       "</div>"
      ],
      "text/plain": [
       "        customerID   BeginDate EndDate            Type PaperlessBilling  \\\n",
       "count         7043        7043    7043            7043             7043   \n",
       "unique        7043          77       5               3                2   \n",
       "top     7590-VHVEG  2014-02-01      No  Month-to-month              Yes   \n",
       "freq             1         366    5174            3875             4171   \n",
       "\n",
       "           PaymentMethod  \n",
       "count               7043  \n",
       "unique                 4  \n",
       "top     Electronic check  \n",
       "freq                2365  "
      ]
     },
     "execution_count": 15,
     "metadata": {},
     "output_type": "execute_result"
    }
   ],
   "source": [
    "# Descripción de los datos para columnas categoricas.\n",
    "df_contract.select_dtypes(include='object').describe()"
   ]
  },
  {
   "cell_type": "code",
   "execution_count": 16,
   "metadata": {
    "colab": {
     "base_uri": "https://localhost:8080/"
    },
    "id": "tfi1-KwCACs1",
    "outputId": "25b99fa6-ff0e-4a58-fbf7-354621bef4ae"
   },
   "outputs": [
    {
     "data": {
      "text/html": [
       "<div>\n",
       "<style scoped>\n",
       "    .dataframe tbody tr th:only-of-type {\n",
       "        vertical-align: middle;\n",
       "    }\n",
       "\n",
       "    .dataframe tbody tr th {\n",
       "        vertical-align: top;\n",
       "    }\n",
       "\n",
       "    .dataframe thead th {\n",
       "        text-align: right;\n",
       "    }\n",
       "</style>\n",
       "<table border=\"1\" class=\"dataframe\">\n",
       "  <thead>\n",
       "    <tr style=\"text-align: right;\">\n",
       "      <th></th>\n",
       "      <th>MonthlyCharges</th>\n",
       "      <th>TotalCharges</th>\n",
       "    </tr>\n",
       "  </thead>\n",
       "  <tbody>\n",
       "    <tr>\n",
       "      <th>count</th>\n",
       "      <td>7043.000000</td>\n",
       "      <td>7032.000000</td>\n",
       "    </tr>\n",
       "    <tr>\n",
       "      <th>mean</th>\n",
       "      <td>64.761692</td>\n",
       "      <td>2283.300441</td>\n",
       "    </tr>\n",
       "    <tr>\n",
       "      <th>std</th>\n",
       "      <td>30.090047</td>\n",
       "      <td>2266.771362</td>\n",
       "    </tr>\n",
       "    <tr>\n",
       "      <th>min</th>\n",
       "      <td>18.250000</td>\n",
       "      <td>18.800000</td>\n",
       "    </tr>\n",
       "    <tr>\n",
       "      <th>25%</th>\n",
       "      <td>35.500000</td>\n",
       "      <td>401.450000</td>\n",
       "    </tr>\n",
       "    <tr>\n",
       "      <th>50%</th>\n",
       "      <td>70.350000</td>\n",
       "      <td>1397.475000</td>\n",
       "    </tr>\n",
       "    <tr>\n",
       "      <th>75%</th>\n",
       "      <td>89.850000</td>\n",
       "      <td>3794.737500</td>\n",
       "    </tr>\n",
       "    <tr>\n",
       "      <th>max</th>\n",
       "      <td>118.750000</td>\n",
       "      <td>8684.800000</td>\n",
       "    </tr>\n",
       "  </tbody>\n",
       "</table>\n",
       "</div>"
      ],
      "text/plain": [
       "       MonthlyCharges  TotalCharges\n",
       "count     7043.000000   7032.000000\n",
       "mean        64.761692   2283.300441\n",
       "std         30.090047   2266.771362\n",
       "min         18.250000     18.800000\n",
       "25%         35.500000    401.450000\n",
       "50%         70.350000   1397.475000\n",
       "75%         89.850000   3794.737500\n",
       "max        118.750000   8684.800000"
      ]
     },
     "execution_count": 16,
     "metadata": {},
     "output_type": "execute_result"
    }
   ],
   "source": [
    "# Descripción para columnas númericas.\n",
    "df_contract.describe()"
   ]
  },
  {
   "cell_type": "code",
   "execution_count": 17,
   "metadata": {
    "colab": {
     "base_uri": "https://localhost:8080/"
    },
    "id": "67GuvZdjWLvm",
    "outputId": "169a2107-3a1e-47d3-d576-e9ee6dff63bb"
   },
   "outputs": [
    {
     "data": {
      "text/plain": [
       "array([[<Axes: title={'center': 'MonthlyCharges'}>,\n",
       "        <Axes: title={'center': 'TotalCharges'}>]], dtype=object)"
      ]
     },
     "execution_count": 17,
     "metadata": {},
     "output_type": "execute_result"
    },
    {
     "data": {
      "image/png": "[encoded data removed]",
      "text/plain": [
       "<Figure size 1500x500 with 2 Axes>"
      ]
     },
     "metadata": {},
     "output_type": "display_data"
    }
   ],
   "source": [
    "df_contract.select_dtypes(include='number').hist(figsize=(15,5))"
   ]
  },
  {
   "cell_type": "code",
   "execution_count": 18,
   "metadata": {
    "colab": {
     "base_uri": "https://localhost:8080/"
    },
    "id": "rryM9f_MKs9X",
    "outputId": "581a42a8-690a-4217-9f73-010ae29d1db1"
   },
   "outputs": [
    {
     "data": {
      "text/plain": [
       "<Axes: >"
      ]
     },
     "execution_count": 18,
     "metadata": {},
     "output_type": "execute_result"
    },
    {
     "data": {
      "image/png": "[encoded data removed]",
      "text/plain": [
       "<Figure size 1500x500 with 1 Axes>"
      ]
     },
     "metadata": {},
     "output_type": "display_data"
    }
   ],
   "source": [
    "#Realizamos una Box plot para la columna TotalCharges\n",
    "\n",
    "fig, ax = plt.subplots( figsize=(15,5) )\n",
    "df_contract.boxplot(column='TotalCharges')"
   ]
  },
  {
   "cell_type": "markdown",
   "metadata": {
    "id": "3LhnO0Nf4Rsz"
   },
   "source": [
    "### Analisis de el data frame df_internet."
   ]
  },
  {
   "cell_type": "code",
   "execution_count": 20,
   "metadata": {
    "colab": {
     "base_uri": "https://localhost:8080/"
    },
    "id": "WwyhDMay4QlF",
    "outputId": "894adbea-4651-4b75-e04c-dadb014eeba6"
   },
   "outputs": [
    {
     "name": "stdout",
     "output_type": "stream",
     "text": [
      "<class 'pandas.core.frame.DataFrame'>\n",
      "RangeIndex: 5517 entries, 0 to 5516\n",
      "Data columns (total 8 columns):\n",
      " #   Column            Non-Null Count  Dtype \n",
      "---  ------            --------------  ----- \n",
      " 0   customerID        5517 non-null   object\n",
      " 1   InternetService   5517 non-null   object\n",
      " 2   OnlineSecurity    5517 non-null   object\n",
      " 3   OnlineBackup      5517 non-null   object\n",
      " 4   DeviceProtection  5517 non-null   object\n",
      " 5   TechSupport       5517 non-null   object\n",
      " 6   StreamingTV       5517 non-null   object\n",
      " 7   StreamingMovies   5517 non-null   object\n",
      "dtypes: object(8)\n",
      "memory usage: 344.9+ KB\n"
     ]
    }
   ],
   "source": [
    "df_internet.info()"
   ]
  },
  {
   "cell_type": "code",
   "execution_count": 21,
   "metadata": {
    "colab": {
     "base_uri": "https://localhost:8080/"
    },
    "id": "num77srx4eGc",
    "outputId": "46639e97-3947-4d05-fbb6-0043488b5a25"
   },
   "outputs": [
    {
     "data": {
      "text/html": [
       "<div>\n",
       "<style scoped>\n",
       "    .dataframe tbody tr th:only-of-type {\n",
       "        vertical-align: middle;\n",
       "    }\n",
       "\n",
       "    .dataframe tbody tr th {\n",
       "        vertical-align: top;\n",
       "    }\n",
       "\n",
       "    .dataframe thead th {\n",
       "        text-align: right;\n",
       "    }\n",
       "</style>\n",
       "<table border=\"1\" class=\"dataframe\">\n",
       "  <thead>\n",
       "    <tr style=\"text-align: right;\">\n",
       "      <th></th>\n",
       "      <th>customerID</th>\n",
       "      <th>InternetService</th>\n",
       "      <th>OnlineSecurity</th>\n",
       "      <th>OnlineBackup</th>\n",
       "      <th>DeviceProtection</th>\n",
       "      <th>TechSupport</th>\n",
       "      <th>StreamingTV</th>\n",
       "      <th>StreamingMovies</th>\n",
       "    </tr>\n",
       "  </thead>\n",
       "  <tbody>\n",
       "    <tr>\n",
       "      <th>3958</th>\n",
       "      <td>1746-TGTWV</td>\n",
       "      <td>Fiber optic</td>\n",
       "      <td>No</td>\n",
       "      <td>No</td>\n",
       "      <td>Yes</td>\n",
       "      <td>No</td>\n",
       "      <td>No</td>\n",
       "      <td>No</td>\n",
       "    </tr>\n",
       "    <tr>\n",
       "      <th>3256</th>\n",
       "      <td>6917-YACBP</td>\n",
       "      <td>Fiber optic</td>\n",
       "      <td>Yes</td>\n",
       "      <td>Yes</td>\n",
       "      <td>Yes</td>\n",
       "      <td>No</td>\n",
       "      <td>No</td>\n",
       "      <td>No</td>\n",
       "    </tr>\n",
       "    <tr>\n",
       "      <th>5289</th>\n",
       "      <td>3855-ONCAR</td>\n",
       "      <td>Fiber optic</td>\n",
       "      <td>No</td>\n",
       "      <td>No</td>\n",
       "      <td>No</td>\n",
       "      <td>No</td>\n",
       "      <td>Yes</td>\n",
       "      <td>No</td>\n",
       "    </tr>\n",
       "    <tr>\n",
       "      <th>1985</th>\n",
       "      <td>5373-SFODM</td>\n",
       "      <td>Fiber optic</td>\n",
       "      <td>No</td>\n",
       "      <td>No</td>\n",
       "      <td>No</td>\n",
       "      <td>No</td>\n",
       "      <td>No</td>\n",
       "      <td>Yes</td>\n",
       "    </tr>\n",
       "    <tr>\n",
       "      <th>966</th>\n",
       "      <td>8268-YDIXR</td>\n",
       "      <td>Fiber optic</td>\n",
       "      <td>Yes</td>\n",
       "      <td>Yes</td>\n",
       "      <td>Yes</td>\n",
       "      <td>No</td>\n",
       "      <td>No</td>\n",
       "      <td>No</td>\n",
       "    </tr>\n",
       "    <tr>\n",
       "      <th>3510</th>\n",
       "      <td>0225-ZORZP</td>\n",
       "      <td>Fiber optic</td>\n",
       "      <td>No</td>\n",
       "      <td>Yes</td>\n",
       "      <td>No</td>\n",
       "      <td>No</td>\n",
       "      <td>No</td>\n",
       "      <td>Yes</td>\n",
       "    </tr>\n",
       "    <tr>\n",
       "      <th>1976</th>\n",
       "      <td>7016-NVRIC</td>\n",
       "      <td>Fiber optic</td>\n",
       "      <td>Yes</td>\n",
       "      <td>No</td>\n",
       "      <td>Yes</td>\n",
       "      <td>No</td>\n",
       "      <td>No</td>\n",
       "      <td>Yes</td>\n",
       "    </tr>\n",
       "    <tr>\n",
       "      <th>4750</th>\n",
       "      <td>9625-QNLUX</td>\n",
       "      <td>Fiber optic</td>\n",
       "      <td>Yes</td>\n",
       "      <td>Yes</td>\n",
       "      <td>Yes</td>\n",
       "      <td>No</td>\n",
       "      <td>Yes</td>\n",
       "      <td>Yes</td>\n",
       "    </tr>\n",
       "    <tr>\n",
       "      <th>3149</th>\n",
       "      <td>0266-GMEAO</td>\n",
       "      <td>Fiber optic</td>\n",
       "      <td>Yes</td>\n",
       "      <td>Yes</td>\n",
       "      <td>Yes</td>\n",
       "      <td>Yes</td>\n",
       "      <td>Yes</td>\n",
       "      <td>Yes</td>\n",
       "    </tr>\n",
       "    <tr>\n",
       "      <th>370</th>\n",
       "      <td>6614-VBEGU</td>\n",
       "      <td>DSL</td>\n",
       "      <td>No</td>\n",
       "      <td>Yes</td>\n",
       "      <td>No</td>\n",
       "      <td>No</td>\n",
       "      <td>Yes</td>\n",
       "      <td>Yes</td>\n",
       "    </tr>\n",
       "  </tbody>\n",
       "</table>\n",
       "</div>"
      ],
      "text/plain": [
       "      customerID InternetService OnlineSecurity OnlineBackup DeviceProtection  \\\n",
       "3958  1746-TGTWV     Fiber optic             No           No              Yes   \n",
       "3256  6917-YACBP     Fiber optic            Yes          Yes              Yes   \n",
       "5289  3855-ONCAR     Fiber optic             No           No               No   \n",
       "1985  5373-SFODM     Fiber optic             No           No               No   \n",
       "966   8268-YDIXR     Fiber optic            Yes          Yes              Yes   \n",
       "3510  0225-ZORZP     Fiber optic             No          Yes               No   \n",
       "1976  7016-NVRIC     Fiber optic            Yes           No              Yes   \n",
       "4750  9625-QNLUX     Fiber optic            Yes          Yes              Yes   \n",
       "3149  0266-GMEAO     Fiber optic            Yes          Yes              Yes   \n",
       "370   6614-VBEGU             DSL             No          Yes               No   \n",
       "\n",
       "     TechSupport StreamingTV StreamingMovies  \n",
       "3958          No          No              No  \n",
       "3256          No          No              No  \n",
       "5289          No         Yes              No  \n",
       "1985          No          No             Yes  \n",
       "966           No          No              No  \n",
       "3510          No          No             Yes  \n",
       "1976          No          No             Yes  \n",
       "4750          No         Yes             Yes  \n",
       "3149         Yes         Yes             Yes  \n",
       "370           No         Yes             Yes  "
      ]
     },
     "execution_count": 21,
     "metadata": {},
     "output_type": "execute_result"
    }
   ],
   "source": [
    "df_internet.sample(10)"
   ]
  },
  {
   "cell_type": "code",
   "execution_count": 22,
   "metadata": {
    "colab": {
     "base_uri": "https://localhost:8080/"
    },
    "id": "KgidTdcs5Bl_",
    "outputId": "df1e7cf7-a766-4819-a0d9-48454de490f7"
   },
   "outputs": [
    {
     "data": {
      "text/html": [
       "<div>\n",
       "<style scoped>\n",
       "    .dataframe tbody tr th:only-of-type {\n",
       "        vertical-align: middle;\n",
       "    }\n",
       "\n",
       "    .dataframe tbody tr th {\n",
       "        vertical-align: top;\n",
       "    }\n",
       "\n",
       "    .dataframe thead th {\n",
       "        text-align: right;\n",
       "    }\n",
       "</style>\n",
       "<table border=\"1\" class=\"dataframe\">\n",
       "  <thead>\n",
       "    <tr style=\"text-align: right;\">\n",
       "      <th></th>\n",
       "      <th>customerID</th>\n",
       "      <th>InternetService</th>\n",
       "      <th>OnlineSecurity</th>\n",
       "      <th>OnlineBackup</th>\n",
       "      <th>DeviceProtection</th>\n",
       "      <th>TechSupport</th>\n",
       "      <th>StreamingTV</th>\n",
       "      <th>StreamingMovies</th>\n",
       "    </tr>\n",
       "  </thead>\n",
       "  <tbody>\n",
       "    <tr>\n",
       "      <th>count</th>\n",
       "      <td>5517</td>\n",
       "      <td>5517</td>\n",
       "      <td>5517</td>\n",
       "      <td>5517</td>\n",
       "      <td>5517</td>\n",
       "      <td>5517</td>\n",
       "      <td>5517</td>\n",
       "      <td>5517</td>\n",
       "    </tr>\n",
       "    <tr>\n",
       "      <th>unique</th>\n",
       "      <td>5517</td>\n",
       "      <td>2</td>\n",
       "      <td>2</td>\n",
       "      <td>2</td>\n",
       "      <td>2</td>\n",
       "      <td>2</td>\n",
       "      <td>2</td>\n",
       "      <td>2</td>\n",
       "    </tr>\n",
       "    <tr>\n",
       "      <th>top</th>\n",
       "      <td>7590-VHVEG</td>\n",
       "      <td>Fiber optic</td>\n",
       "      <td>No</td>\n",
       "      <td>No</td>\n",
       "      <td>No</td>\n",
       "      <td>No</td>\n",
       "      <td>No</td>\n",
       "      <td>No</td>\n",
       "    </tr>\n",
       "    <tr>\n",
       "      <th>freq</th>\n",
       "      <td>1</td>\n",
       "      <td>3096</td>\n",
       "      <td>3498</td>\n",
       "      <td>3088</td>\n",
       "      <td>3095</td>\n",
       "      <td>3473</td>\n",
       "      <td>2810</td>\n",
       "      <td>2785</td>\n",
       "    </tr>\n",
       "  </tbody>\n",
       "</table>\n",
       "</div>"
      ],
      "text/plain": [
       "        customerID InternetService OnlineSecurity OnlineBackup  \\\n",
       "count         5517            5517           5517         5517   \n",
       "unique        5517               2              2            2   \n",
       "top     7590-VHVEG     Fiber optic             No           No   \n",
       "freq             1            3096           3498         3088   \n",
       "\n",
       "       DeviceProtection TechSupport StreamingTV StreamingMovies  \n",
       "count              5517        5517        5517            5517  \n",
       "unique                2           2           2               2  \n",
       "top                  No          No          No              No  \n",
       "freq               3095        3473        2810            2785  "
      ]
     },
     "execution_count": 22,
     "metadata": {},
     "output_type": "execute_result"
    }
   ],
   "source": [
    "df_internet.describe()"
   ]
  },
  {
   "cell_type": "markdown",
   "metadata": {
    "id": "cqEK0QWE_pSx"
   },
   "source": [
    "### Analisis de el data frame df_phone."
   ]
  },
  {
   "cell_type": "code",
   "execution_count": 24,
   "metadata": {
    "colab": {
     "base_uri": "https://localhost:8080/"
    },
    "id": "2uC7s8Lj81Wh",
    "outputId": "34d5f15a-abac-4959-8b1d-3d6593dfd5b6"
   },
   "outputs": [
    {
     "name": "stdout",
     "output_type": "stream",
     "text": [
      "<class 'pandas.core.frame.DataFrame'>\n",
      "RangeIndex: 6361 entries, 0 to 6360\n",
      "Data columns (total 2 columns):\n",
      " #   Column         Non-Null Count  Dtype \n",
      "---  ------         --------------  ----- \n",
      " 0   customerID     6361 non-null   object\n",
      " 1   MultipleLines  6361 non-null   object\n",
      "dtypes: object(2)\n",
      "memory usage: 99.5+ KB\n"
     ]
    }
   ],
   "source": [
    "df_phone.info()"
   ]
  },
  {
   "cell_type": "code",
   "execution_count": 25,
   "metadata": {
    "colab": {
     "base_uri": "https://localhost:8080/"
    },
    "id": "WHxIaEUK_vFC",
    "outputId": "b1099a99-0e94-4a61-c3bd-520eedf4a478"
   },
   "outputs": [
    {
     "data": {
      "text/html": [
       "<div>\n",
       "<style scoped>\n",
       "    .dataframe tbody tr th:only-of-type {\n",
       "        vertical-align: middle;\n",
       "    }\n",
       "\n",
       "    .dataframe tbody tr th {\n",
       "        vertical-align: top;\n",
       "    }\n",
       "\n",
       "    .dataframe thead th {\n",
       "        text-align: right;\n",
       "    }\n",
       "</style>\n",
       "<table border=\"1\" class=\"dataframe\">\n",
       "  <thead>\n",
       "    <tr style=\"text-align: right;\">\n",
       "      <th></th>\n",
       "      <th>customerID</th>\n",
       "      <th>MultipleLines</th>\n",
       "    </tr>\n",
       "  </thead>\n",
       "  <tbody>\n",
       "    <tr>\n",
       "      <th>1919</th>\n",
       "      <td>2911-WDXMV</td>\n",
       "      <td>Yes</td>\n",
       "    </tr>\n",
       "    <tr>\n",
       "      <th>238</th>\n",
       "      <td>4385-GZQXV</td>\n",
       "      <td>No</td>\n",
       "    </tr>\n",
       "    <tr>\n",
       "      <th>4549</th>\n",
       "      <td>9367-TCUYN</td>\n",
       "      <td>No</td>\n",
       "    </tr>\n",
       "    <tr>\n",
       "      <th>4281</th>\n",
       "      <td>0961-ZWLVI</td>\n",
       "      <td>Yes</td>\n",
       "    </tr>\n",
       "    <tr>\n",
       "      <th>5466</th>\n",
       "      <td>4770-QAZXN</td>\n",
       "      <td>No</td>\n",
       "    </tr>\n",
       "    <tr>\n",
       "      <th>6030</th>\n",
       "      <td>0872-NXJYS</td>\n",
       "      <td>No</td>\n",
       "    </tr>\n",
       "    <tr>\n",
       "      <th>1695</th>\n",
       "      <td>7517-SAWMO</td>\n",
       "      <td>No</td>\n",
       "    </tr>\n",
       "    <tr>\n",
       "      <th>5864</th>\n",
       "      <td>3518-FSTWG</td>\n",
       "      <td>Yes</td>\n",
       "    </tr>\n",
       "    <tr>\n",
       "      <th>3938</th>\n",
       "      <td>3754-DXMRT</td>\n",
       "      <td>No</td>\n",
       "    </tr>\n",
       "    <tr>\n",
       "      <th>4582</th>\n",
       "      <td>2955-PSXOE</td>\n",
       "      <td>No</td>\n",
       "    </tr>\n",
       "  </tbody>\n",
       "</table>\n",
       "</div>"
      ],
      "text/plain": [
       "      customerID MultipleLines\n",
       "1919  2911-WDXMV           Yes\n",
       "238   4385-GZQXV            No\n",
       "4549  9367-TCUYN            No\n",
       "4281  0961-ZWLVI           Yes\n",
       "5466  4770-QAZXN            No\n",
       "6030  0872-NXJYS            No\n",
       "1695  7517-SAWMO            No\n",
       "5864  3518-FSTWG           Yes\n",
       "3938  3754-DXMRT            No\n",
       "4582  2955-PSXOE            No"
      ]
     },
     "execution_count": 25,
     "metadata": {},
     "output_type": "execute_result"
    }
   ],
   "source": [
    "df_phone.sample(10)"
   ]
  },
  {
   "cell_type": "markdown",
   "metadata": {
    "id": "NCS-cXKhAcvO"
   },
   "source": [
    "### Analisis de el data frame df_personal."
   ]
  },
  {
   "cell_type": "code",
   "execution_count": 27,
   "metadata": {
    "colab": {
     "base_uri": "https://localhost:8080/"
    },
    "id": "hQ_lqi6LAcep",
    "outputId": "ed2e4210-2a3d-4b23-b02e-5afc92508dd5"
   },
   "outputs": [
    {
     "name": "stdout",
     "output_type": "stream",
     "text": [
      "<class 'pandas.core.frame.DataFrame'>\n",
      "RangeIndex: 7043 entries, 0 to 7042\n",
      "Data columns (total 5 columns):\n",
      " #   Column         Non-Null Count  Dtype \n",
      "---  ------         --------------  ----- \n",
      " 0   customerID     7043 non-null   object\n",
      " 1   gender         7043 non-null   object\n",
      " 2   SeniorCitizen  7043 non-null   int64 \n",
      " 3   Partner        7043 non-null   object\n",
      " 4   Dependents     7043 non-null   object\n",
      "dtypes: int64(1), object(4)\n",
      "memory usage: 275.2+ KB\n"
     ]
    }
   ],
   "source": [
    "df_personal.info()"
   ]
  },
  {
   "cell_type": "code",
   "execution_count": 28,
   "metadata": {
    "colab": {
     "base_uri": "https://localhost:8080/"
    },
    "id": "ZLAFeWsuAvtF",
    "outputId": "903f6832-fd7e-461f-8a92-2c74cd01ea70"
   },
   "outputs": [
    {
     "data": {
      "text/html": [
       "<div>\n",
       "<style scoped>\n",
       "    .dataframe tbody tr th:only-of-type {\n",
       "        vertical-align: middle;\n",
       "    }\n",
       "\n",
       "    .dataframe tbody tr th {\n",
       "        vertical-align: top;\n",
       "    }\n",
       "\n",
       "    .dataframe thead th {\n",
       "        text-align: right;\n",
       "    }\n",
       "</style>\n",
       "<table border=\"1\" class=\"dataframe\">\n",
       "  <thead>\n",
       "    <tr style=\"text-align: right;\">\n",
       "      <th></th>\n",
       "      <th>customerID</th>\n",
       "      <th>gender</th>\n",
       "      <th>SeniorCitizen</th>\n",
       "      <th>Partner</th>\n",
       "      <th>Dependents</th>\n",
       "    </tr>\n",
       "  </thead>\n",
       "  <tbody>\n",
       "    <tr>\n",
       "      <th>5478</th>\n",
       "      <td>3374-TTZTK</td>\n",
       "      <td>Male</td>\n",
       "      <td>0</td>\n",
       "      <td>Yes</td>\n",
       "      <td>No</td>\n",
       "    </tr>\n",
       "    <tr>\n",
       "      <th>1595</th>\n",
       "      <td>2761-OCIAX</td>\n",
       "      <td>Male</td>\n",
       "      <td>1</td>\n",
       "      <td>No</td>\n",
       "      <td>No</td>\n",
       "    </tr>\n",
       "    <tr>\n",
       "      <th>4050</th>\n",
       "      <td>2675-DHUTR</td>\n",
       "      <td>Male</td>\n",
       "      <td>1</td>\n",
       "      <td>Yes</td>\n",
       "      <td>No</td>\n",
       "    </tr>\n",
       "    <tr>\n",
       "      <th>6153</th>\n",
       "      <td>6685-XSHHU</td>\n",
       "      <td>Male</td>\n",
       "      <td>0</td>\n",
       "      <td>Yes</td>\n",
       "      <td>Yes</td>\n",
       "    </tr>\n",
       "    <tr>\n",
       "      <th>3869</th>\n",
       "      <td>1357-BIJKI</td>\n",
       "      <td>Male</td>\n",
       "      <td>0</td>\n",
       "      <td>Yes</td>\n",
       "      <td>No</td>\n",
       "    </tr>\n",
       "    <tr>\n",
       "      <th>5776</th>\n",
       "      <td>4291-TPNFG</td>\n",
       "      <td>Male</td>\n",
       "      <td>0</td>\n",
       "      <td>Yes</td>\n",
       "      <td>No</td>\n",
       "    </tr>\n",
       "    <tr>\n",
       "      <th>4290</th>\n",
       "      <td>7734-DBOAI</td>\n",
       "      <td>Female</td>\n",
       "      <td>0</td>\n",
       "      <td>Yes</td>\n",
       "      <td>Yes</td>\n",
       "    </tr>\n",
       "    <tr>\n",
       "      <th>5026</th>\n",
       "      <td>1401-FTHFQ</td>\n",
       "      <td>Male</td>\n",
       "      <td>0</td>\n",
       "      <td>Yes</td>\n",
       "      <td>Yes</td>\n",
       "    </tr>\n",
       "    <tr>\n",
       "      <th>3065</th>\n",
       "      <td>5133-POWUA</td>\n",
       "      <td>Male</td>\n",
       "      <td>0</td>\n",
       "      <td>No</td>\n",
       "      <td>No</td>\n",
       "    </tr>\n",
       "    <tr>\n",
       "      <th>3215</th>\n",
       "      <td>3481-JHUZH</td>\n",
       "      <td>Male</td>\n",
       "      <td>0</td>\n",
       "      <td>Yes</td>\n",
       "      <td>No</td>\n",
       "    </tr>\n",
       "  </tbody>\n",
       "</table>\n",
       "</div>"
      ],
      "text/plain": [
       "      customerID  gender  SeniorCitizen Partner Dependents\n",
       "5478  3374-TTZTK    Male              0     Yes         No\n",
       "1595  2761-OCIAX    Male              1      No         No\n",
       "4050  2675-DHUTR    Male              1     Yes         No\n",
       "6153  6685-XSHHU    Male              0     Yes        Yes\n",
       "3869  1357-BIJKI    Male              0     Yes         No\n",
       "5776  4291-TPNFG    Male              0     Yes         No\n",
       "4290  7734-DBOAI  Female              0     Yes        Yes\n",
       "5026  1401-FTHFQ    Male              0     Yes        Yes\n",
       "3065  5133-POWUA    Male              0      No         No\n",
       "3215  3481-JHUZH    Male              0     Yes         No"
      ]
     },
     "execution_count": 28,
     "metadata": {},
     "output_type": "execute_result"
    }
   ],
   "source": [
    "df_personal.sample(10)"
   ]
  },
  {
   "cell_type": "code",
   "execution_count": 29,
   "metadata": {
    "id": "XJk4tjEBECfq"
   },
   "outputs": [],
   "source": [
    "# Convertimos la columna SeniorCitizen a tipo object para poder analizarla como tipo categorica\n",
    "df_personal['SeniorCitizen'] = df_personal['SeniorCitizen'].astype('object')"
   ]
  },
  {
   "cell_type": "code",
   "execution_count": 30,
   "metadata": {
    "colab": {
     "base_uri": "https://localhost:8080/"
    },
    "id": "Mv-NaD7SONIZ",
    "outputId": "91bc0878-5704-45ba-da40-c43ff0f3d5c3"
   },
   "outputs": [
    {
     "data": {
      "text/html": [
       "<div>\n",
       "<style scoped>\n",
       "    .dataframe tbody tr th:only-of-type {\n",
       "        vertical-align: middle;\n",
       "    }\n",
       "\n",
       "    .dataframe tbody tr th {\n",
       "        vertical-align: top;\n",
       "    }\n",
       "\n",
       "    .dataframe thead th {\n",
       "        text-align: right;\n",
       "    }\n",
       "</style>\n",
       "<table border=\"1\" class=\"dataframe\">\n",
       "  <thead>\n",
       "    <tr style=\"text-align: right;\">\n",
       "      <th></th>\n",
       "      <th>customerID</th>\n",
       "      <th>gender</th>\n",
       "      <th>SeniorCitizen</th>\n",
       "      <th>Partner</th>\n",
       "      <th>Dependents</th>\n",
       "    </tr>\n",
       "  </thead>\n",
       "  <tbody>\n",
       "    <tr>\n",
       "      <th>count</th>\n",
       "      <td>7043</td>\n",
       "      <td>7043</td>\n",
       "      <td>7043</td>\n",
       "      <td>7043</td>\n",
       "      <td>7043</td>\n",
       "    </tr>\n",
       "    <tr>\n",
       "      <th>unique</th>\n",
       "      <td>7043</td>\n",
       "      <td>2</td>\n",
       "      <td>2</td>\n",
       "      <td>2</td>\n",
       "      <td>2</td>\n",
       "    </tr>\n",
       "    <tr>\n",
       "      <th>top</th>\n",
       "      <td>7590-VHVEG</td>\n",
       "      <td>Male</td>\n",
       "      <td>0</td>\n",
       "      <td>No</td>\n",
       "      <td>No</td>\n",
       "    </tr>\n",
       "    <tr>\n",
       "      <th>freq</th>\n",
       "      <td>1</td>\n",
       "      <td>3555</td>\n",
       "      <td>5901</td>\n",
       "      <td>3641</td>\n",
       "      <td>4933</td>\n",
       "    </tr>\n",
       "  </tbody>\n",
       "</table>\n",
       "</div>"
      ],
      "text/plain": [
       "        customerID gender  SeniorCitizen Partner Dependents\n",
       "count         7043   7043           7043    7043       7043\n",
       "unique        7043      2              2       2          2\n",
       "top     7590-VHVEG   Male              0      No         No\n",
       "freq             1   3555           5901    3641       4933"
      ]
     },
     "execution_count": 30,
     "metadata": {},
     "output_type": "execute_result"
    }
   ],
   "source": [
    "df_personal.describe()"
   ]
  },
  {
   "cell_type": "markdown",
   "metadata": {
    "id": "_GpxM558Ox-U"
   },
   "source": [
    "## Plan de trabajo.\n",
    "\n",
    "**Recursos y Herramientas**\n",
    "\n",
    "- Lenguajes de Programación: Python\n",
    "\n",
    "- Bibliotecas: Pandas, NumPy, Matplotlib, Seaborn, Scikit-Learn, TensorFlow, etc.\n",
    "\n",
    "- Plataformas: Google Colab\n",
    "\n",
    "\n",
    "**Metodología**\n",
    "\n",
    "1. Seleccionar las mejores características para el modelo.\n",
    "\n",
    "2. Selección del modelo a utilizar.\n",
    "\n",
    "3. Seleccionar los mejores hiperparametros\n",
    "\n",
    "4. Entrenamiento y evaluación\n",
    "\n",
    "5. Despliegue del modelo.\n",
    "\n",
    "\n",
    "**Indicadores de Éxito**\n",
    "\n",
    "- Para el modelo: precisión, recall y auc roc optimos\n",
    "\n",
    "- Para el negocio: Mejora en la retención de clientes.\n",
    "\n"
   ]
  },
  {
   "cell_type": "markdown",
   "metadata": {
    "id": "aomVlYtyqo39"
   },
   "source": [
    "# Segunda parte: Código de solución.\n",
    "\n",
    "### **Esta sección del proyecto se encarga de la segunda etapa del proyecto final de triple ten que corresponde al código del modelo.**\n",
    "\n",
    "\n",
    "---\n",
    "\n",
    "\n",
    "En la sección anterior, identificamos varios aspectos clave sobre los datos:  \n",
    "\n",
    "1. La mayoría de las variables son de tipo **categórico**.  \n",
    "2. No todos los clientes han contratado tanto el servicio de **internet** como el de **telefonía**; algunos utilizan solo uno de ellos.  \n",
    "3. Es posible generar **nuevas características** a partir de los datos existentes, lo que podría mejorar el desempeño del modelo.  \n",
    "\n",
    "Con esta información, procederemos al desarrollo del modelo siguiendo varias etapas fundamentales:  \n",
    "- **Limpieza de datos** para asegurar su calidad y coherencia.  \n",
    "- **Ingeniería de características** para crear nuevas variables relevantes.  \n",
    "- **Selección del modelo** más adecuado para la predicción de churn.  \n",
    "\n",
    "A lo largo de este proceso, optimizaremos el modelo con el objetivo de maximizar su capacidad de predicción y contribuir a la retención de clientes."
   ]
  },
  {
   "cell_type": "markdown",
   "metadata": {
    "id": "HKuwLKSZbS_E"
   },
   "source": [
    "## Limpieza de Datos  \n",
    "\n",
    "Para facilitar el procesamiento y análisis, el primer paso será **unificar los datos de cada cliente** en un único DataFrame, al que llamaremos `df_final`.  \n",
    "\n",
    "Durante esta fusión, es probable que aparezcan valores **nulos**, ya que no todos los clientes han contratado tanto el servicio de **internet** como el de **telefonía**. Esta situación deberá ser abordada en las siguientes etapas del preprocesamiento para garantizar la integridad y calidad de los datos."
   ]
  },
  {
   "cell_type": "code",
   "execution_count": 34,
   "metadata": {
    "id": "5swrDXU6qn6V"
   },
   "outputs": [],
   "source": [
    "# Crearemos un data frame para unificar todos los datos y así poder seguir con el análisis\n",
    "\n",
    "df_final = pd.merge(df_contract, df_internet, on='customerID', how='left')\n",
    "df_final = pd.merge(df_final, df_personal, on='customerID', how='left')\n",
    "df_final = pd.merge(df_final, df_phone, on='customerID', how='left')\n"
   ]
  },
  {
   "cell_type": "code",
   "execution_count": 35,
   "metadata": {
    "colab": {
     "base_uri": "https://localhost:8080/"
    },
    "id": "RKb93932v8Sw",
    "outputId": "ba8531ab-7a1d-421f-816e-6ed145535888"
   },
   "outputs": [
    {
     "data": {
      "text/plain": [
       "customerID             0\n",
       "BeginDate              0\n",
       "EndDate                0\n",
       "Type                   0\n",
       "PaperlessBilling       0\n",
       "PaymentMethod          0\n",
       "MonthlyCharges         0\n",
       "TotalCharges          11\n",
       "InternetService     1526\n",
       "OnlineSecurity      1526\n",
       "OnlineBackup        1526\n",
       "DeviceProtection    1526\n",
       "TechSupport         1526\n",
       "StreamingTV         1526\n",
       "StreamingMovies     1526\n",
       "gender                 0\n",
       "SeniorCitizen          0\n",
       "Partner                0\n",
       "Dependents             0\n",
       "MultipleLines        682\n",
       "dtype: int64"
      ]
     },
     "execution_count": 35,
     "metadata": {},
     "output_type": "execute_result"
    }
   ],
   "source": [
    "# Verificamos si hay datos nulos.\n",
    "df_final.isna().sum()"
   ]
  },
  {
   "cell_type": "markdown",
   "metadata": {
    "id": "QqFSwvKcjfP7"
   },
   "source": [
    "Tal como se esperaba, han surgido varios centenares de valores **nulos** en el conjunto de datos. Sin embargo, esto no representa un problema significativo, ya que su tratamiento será un proceso sencillo dentro de las etapas de preprocesamiento."
   ]
  },
  {
   "cell_type": "code",
   "execution_count": 37,
   "metadata": {
    "id": "TXn1lRQh0Q06"
   },
   "outputs": [],
   "source": [
    "# Los nombres de todas las columnas se convertirán a minusculas antes de todo el proceso\n",
    "df_final.columns = df_final.columns.str.lower()"
   ]
  },
  {
   "cell_type": "code",
   "execution_count": 38,
   "metadata": {
    "id": "l5LTxNtP0k3q"
   },
   "outputs": [],
   "source": [
    "# Nos encargaremos de la columna totalcharges\n",
    "\n",
    "df_final['totalcharges'] = df_final['totalcharges'].fillna( df_final['totalcharges'].median() )"
   ]
  },
  {
   "cell_type": "markdown",
   "metadata": {
    "id": "Hk9MFl1Il9Qe"
   },
   "source": [
    "La columna **totalcharges** presenta únicamente **11 valores nulos**, lo que no representa un problema significativo. En este caso, se optará por **rellenar los valores faltantes con la mediana** de la distribución, asegurando así que la imputación no afecte de manera considerable la integridad de los datos."
   ]
  },
  {
   "cell_type": "code",
   "execution_count": 40,
   "metadata": {
    "id": "IffBZuCc02Uf"
   },
   "outputs": [],
   "source": [
    "# Nos encargamos de la columna internetservice\n",
    "\n",
    "df_final['internetservice'] = df_final['internetservice'].fillna( 'None' )"
   ]
  },
  {
   "cell_type": "markdown",
   "metadata": {
    "id": "UujG9K5d1PFt"
   },
   "source": [
    "En el caso de la columna **internetservice**, es importante recordar que esta indica el tipo de servicio de internet contratado por el cliente. Si el valor es **nulo**, significa que el cliente **no cuenta con ningún servicio de internet**.  \n",
    "\n",
    "Para manejar estos valores faltantes, se reemplazarán los **NaN** con la categoría `'None'`, creando así una nueva clase dentro de esta variable. Esto permitirá que el modelo pueda diferenciar claramente entre clientes con y sin servicio de internet."
   ]
  },
  {
   "cell_type": "code",
   "execution_count": 42,
   "metadata": {
    "id": "44OlsLW01nP4"
   },
   "outputs": [],
   "source": [
    "# Nos encargamos de las columnas onlinesecurity, onlinebackup, deviceprotection, techsupport, streamingtv y streamingmovies\n",
    "\n",
    "df_final['onlinesecurity'] = df_final['onlinesecurity'].fillna( 'No' )\n",
    "df_final['onlinebackup'] = df_final['onlinebackup'].fillna( 'No' )\n",
    "df_final['deviceprotection'] = df_final['deviceprotection'].fillna( 'No' )\n",
    "df_final['techsupport'] = df_final['techsupport'].fillna( 'No' )\n",
    "df_final['streamingtv'] = df_final['streamingtv'].fillna( 'No' )\n",
    "df_final['streamingmovies'] = df_final['streamingmovies'].fillna( 'No' )"
   ]
  },
  {
   "cell_type": "markdown",
   "metadata": {
    "id": "bkHtH1AE2Om-"
   },
   "source": [
    "Para las columnas **`onlinesecurity`**, **`onlinebackup`**, **`deviceprotection`**, **`techsupport`**, **`streamingtv`** y **`streamingmovies`**, el razonamiento es similar al de la columna **`internetservice`**.  \n",
    "\n",
    "Si un valor es **nulo**, significa que el cliente **no ha contratado** ese servicio. Por lo tanto, los valores faltantes se reemplazarán con `'No'`, asegurando que el modelo interprete correctamente la ausencia de estos servicios."
   ]
  },
  {
   "cell_type": "code",
   "execution_count": 44,
   "metadata": {
    "id": "3j7WSnnb2b8p"
   },
   "outputs": [],
   "source": [
    "# Nos encargamos de la columna multiplelines\n",
    "\n",
    "df_final['multiplelines'] = df_final['multiplelines'].fillna( 'No' )"
   ]
  },
  {
   "cell_type": "markdown",
   "metadata": {
    "id": "baQZR1x3of36"
   },
   "source": [
    "De manera similar, en la columna **`MultipleLines`**, la presencia de valores **nulos** indica que el cliente **no cuenta con múltiples líneas telefónicas**.  \n",
    "\n",
    "Por lo tanto, los valores faltantes se reemplazarán con `'No'`, garantizando la coherencia de los datos y evitando posibles problemas durante el entrenamiento del modelo."
   ]
  },
  {
   "cell_type": "code",
   "execution_count": 46,
   "metadata": {
    "colab": {
     "base_uri": "https://localhost:8080/"
    },
    "id": "rFIz7Kt-2is8",
    "outputId": "6afa7282-1d77-4255-b6e2-8e6de375e7c6"
   },
   "outputs": [
    {
     "data": {
      "text/plain": [
       "customerid          0\n",
       "begindate           0\n",
       "enddate             0\n",
       "type                0\n",
       "paperlessbilling    0\n",
       "paymentmethod       0\n",
       "monthlycharges      0\n",
       "totalcharges        0\n",
       "internetservice     0\n",
       "onlinesecurity      0\n",
       "onlinebackup        0\n",
       "deviceprotection    0\n",
       "techsupport         0\n",
       "streamingtv         0\n",
       "streamingmovies     0\n",
       "gender              0\n",
       "seniorcitizen       0\n",
       "partner             0\n",
       "dependents          0\n",
       "multiplelines       0\n",
       "dtype: int64"
      ]
     },
     "execution_count": 46,
     "metadata": {},
     "output_type": "execute_result"
    }
   ],
   "source": [
    "# Comprobamos valores nulos de nuevo.\n",
    "df_final.isna().sum()"
   ]
  },
  {
   "cell_type": "markdown",
   "metadata": {
    "id": "ik8N0pUlpRcE"
   },
   "source": [
    "Con los datos **limpios** y **unificados** en un único DataFrame, hemos completado la etapa de preprocesamiento inicial. Ahora podemos avanzar a la siguiente fase en el desarrollo del modelo."
   ]
  },
  {
   "cell_type": "markdown",
   "metadata": {
    "id": "Ib0MkQq5WIDR"
   },
   "source": [
    "## Ingeniería de Características  \n",
    "\n",
    "Ahora que los datos están preparados, el siguiente paso es la **ingeniería de características**. En esta etapa, nos enfocaremos en **seleccionar** y **crear** las variables más relevantes con el objetivo de optimizar el rendimiento del modelo.  \n",
    "\n",
    "Una correcta selección y transformación de características puede mejorar significativamente la capacidad predictiva del modelo, permitiéndole identificar con mayor precisión los clientes en riesgo de churn."
   ]
  },
  {
   "cell_type": "markdown",
   "metadata": {
    "id": "6gijQLWt9vql"
   },
   "source": [
    "\n",
    "\n",
    "---\n",
    "\n"
   ]
  },
  {
   "cell_type": "markdown",
   "metadata": {
    "id": "SltDGnCM9xwW"
   },
   "source": [
    "Antes de empezar con la ingeieria de caracteristicas crearemos el df_target que contendrá la variable objetivo para realizar pruebas más adelante."
   ]
  },
  {
   "cell_type": "code",
   "execution_count": 51,
   "metadata": {
    "colab": {
     "base_uri": "https://localhost:8080/",
     "height": 482
    },
    "id": "_4W9t1vxWH5M",
    "outputId": "a36cb294-a66a-46e8-eb94-80085ca852e9"
   },
   "outputs": [
    {
     "data": {
      "image/png": "[encoded data removed]",
      "text/plain": [
       "<Figure size 1000x500 with 1 Axes>"
      ]
     },
     "metadata": {},
     "output_type": "display_data"
    }
   ],
   "source": [
    "# Creamos la característica objetivo\n",
    "df_target = df_final['enddate'].apply(lambda x: 1 if x != 'No' else 0)\n",
    "\n",
    "# Graficamos el número de instancias en cada clase\n",
    "df_target.name = 'target'\n",
    "fig, ax = plt.subplots( figsize=(10,5))\n",
    "df_target.value_counts().plot(\n",
    "    kind='bar',\n",
    "    ax=ax,\n",
    "    ylabel = 'Cantidad de clientes',\n",
    "    title = 'Las clases están en desequilibrio.')\n",
    "\n",
    "plt.show()"
   ]
  },
  {
   "cell_type": "markdown",
   "metadata": {
    "id": "wx2YuokNQ796"
   },
   "source": [
    "Las clases muestran un desequilibrio notable pero este problema será abordado más adelante."
   ]
  },
  {
   "cell_type": "markdown",
   "metadata": {
    "id": "1VbcEgyHQ_a5"
   },
   "source": [
    "### Creación y modificación de características."
   ]
  },
  {
   "cell_type": "code",
   "execution_count": 54,
   "metadata": {
    "id": "NrpaMaQqS--x"
   },
   "outputs": [],
   "source": [
    "# Determinamos si el cliente tiene almenos una linea telefonica\n",
    "\n",
    "df_final['phone'] = df_final['customerid'].apply(lambda x: 'yes' if x in df_phone.customerID.to_list() else 'No')"
   ]
  },
  {
   "cell_type": "markdown",
   "metadata": {
    "id": "cBUCatUxx5em"
   },
   "source": [
    "  \n",
    "\n",
    "El primer paso en la ingeniería de características será la creación de una nueva variable llamada **`phone`**.  \n",
    "\n",
    "Actualmente, los datos solo indican si el usuario tiene **múltiples líneas telefónicas**, pero no si cuenta con **al menos una línea contratada**. Para abordar esta limitación, generaremos la columna **`Phone`**, que reflejará si el cliente tiene servicio telefónico, independientemente de la cantidad de líneas."
   ]
  },
  {
   "cell_type": "code",
   "execution_count": 56,
   "metadata": {
    "id": "sQou1ymG0GBO"
   },
   "outputs": [],
   "source": [
    "# Calculamos la cantidad de días que un cliente tiene con el servicio.\n",
    "from datetime import datetime\n",
    "\n",
    "\n",
    "# La función calculate_days recive como parametro una fila del dataframe y devuelve los días que han transcurrido desde\n",
    "# que el usuario contrato el servicio\n",
    "\n",
    "def calculate_days( row ):\n",
    "  if row.enddate != 'No':\n",
    "    start_date = pd.to_datetime(row.begindate)\n",
    "    end_date = pd.to_datetime(row.enddate)\n",
    "    months = (end_date.year - start_date.year) * 365 + (end_date.month - start_date.month) * 30 + (end_date.day - start_date.day)\n",
    "    return months\n",
    "  else:\n",
    "    start_date = pd.to_datetime(row.begindate)\n",
    "    end_date = datetime(2020,2,1)\n",
    "    months = (end_date.year - start_date.year) * 365 + (end_date.month - start_date.month) * 30 + (end_date.day - start_date.day)\n",
    "    return months\n",
    "\n",
    "\n",
    "df_final['days'] = df_final.apply(calculate_days, axis=1)"
   ]
  },
  {
   "cell_type": "markdown",
   "metadata": {
    "id": "-ElnWFC8y1l2"
   },
   "source": [
    "Un hallazgo importante durante el análisis de los datos es que los usuarios **más antiguos** son los que menos probabilidades tienen de abandonar el servicio.  \n",
    "\n",
    "Con base en esta observación, crearemos una nueva característica llamada **`days`**, que indicará al modelo **cuántos días han transcurrido** desde que el usuario contrató el servicio. Esta variable podría proporcionar información valiosa sobre la relación entre la duración del contrato y la probabilidad de churn."
   ]
  },
  {
   "cell_type": "code",
   "execution_count": 58,
   "metadata": {
    "id": "5OhsvNiLajob"
   },
   "outputs": [],
   "source": [
    "# Eliminamos las columnas que ya no necesitamos.\n",
    "\n",
    "df_final = df_final.drop(columns=['begindate', 'enddate'])\n"
   ]
  },
  {
   "cell_type": "markdown",
   "metadata": {
    "id": "8ah_zhQy0buU"
   },
   "source": [
    "En este punto, las columnas **`begindate`** y **`enddate`** ya no son necesarias, ya que la información que contienen ha sido transformada en otras características. Por lo tanto, procederemos a **eliminarlas** del DataFrame para optimizar el conjunto de datos y evitar redundancias."
   ]
  },
  {
   "cell_type": "code",
   "execution_count": 60,
   "metadata": {
    "id": "Oe1BDGgQRVwg"
   },
   "outputs": [],
   "source": [
    "# Vamos a convertir las columnas monthlycharges y totalcharges a categoricas.\n",
    "\n",
    "def categorizar( ran_dict, value ):\n",
    "    for i in ran_dict:\n",
    "      if value < ran_dict[i]:\n",
    "        return i\n",
    "    return i\n",
    "\n",
    "\n",
    "monthly_charges_ranges = {\n",
    "    'baja': 30,\n",
    "    'media': 60,\n",
    "    'alta': 90,\n",
    "    'muy_alta': 120\n",
    "}\n",
    "\n",
    "total_charges_ranges = {\n",
    "    'baja': 500,\n",
    "    'media': 1500,\n",
    "    'alta': 3000,\n",
    "    'muy_alta': 10000\n",
    "}\n",
    "\n",
    "\n",
    "df_final['monthlycharges'] = df_final['monthlycharges'].apply(lambda x: categorizar(monthly_charges_ranges, x))\n",
    "\n",
    "df_final['totalcharges'] = df_final['totalcharges'].apply(lambda x: categorizar(total_charges_ranges, x))"
   ]
  },
  {
   "cell_type": "markdown",
   "metadata": {
    "id": "3Kqd5QrS0z0g"
   },
   "source": [
    "Las variables de tipo **numérico** a veces pueden ser más útiles cuando se agrupan en **categorías**. Este proceso se conoce como **bucketing**. En este caso, utilizaremos esta técnica para transformar algunas de las variables numéricas en categorías, con el fin de facilitar el trabajo del modelo y mejorar su rendimiento predictivo."
   ]
  },
  {
   "cell_type": "markdown",
   "metadata": {
    "id": "F8m-GHNNTPoA"
   },
   "source": [
    "\n",
    "\n",
    "---\n",
    "\n"
   ]
  },
  {
   "cell_type": "markdown",
   "metadata": {
    "id": "G0aq99HeRViv"
   },
   "source": [
    "\n",
    "\n",
    "Después de realizar las transformaciones necesarias en las características, el siguiente paso es aplicar **One-Hot Encoding** y **Standard Scaler**.  \n",
    "\n",
    "- **One-Hot Encoding** se utilizará para convertir las variables categóricas en un formato numérico adecuado para los modelos de machine learning.  \n",
    "- **Standard Scaler** se aplicará a las variables numéricas para estandarizarlas, asegurando que todas tengan la misma escala y evitando que aquellas con valores más grandes dominen el modelo.  \n",
    "\n",
    "Estas transformaciones permitirán que el conjunto de datos sea compatible con **cualquier tipo de modelo**, lo que será clave para la comparación de diferentes enfoques y la selección del más eficiente."
   ]
  },
  {
   "cell_type": "code",
   "execution_count": 64,
   "metadata": {
    "id": "iBUYuwAHfKzx"
   },
   "outputs": [],
   "source": [
    "#Convertimos los datos cataegoricos a numericos con one hot encoder\n",
    "\n",
    "from sklearn.preprocessing import OneHotEncoder, StandardScaler\n",
    "\n",
    "encoder = OneHotEncoder()\n",
    "df_encoded = pd.DataFrame(\n",
    "    # Transformamos todos los datos excepto el customerid y lo transformamos en un dataframe\n",
    "    encoder.fit_transform(df_final[df_final.iloc[:,1:].select_dtypes(include='object').columns]).toarray(),\n",
    "    columns=encoder.get_feature_names_out())\n"
   ]
  },
  {
   "cell_type": "code",
   "execution_count": 65,
   "metadata": {
    "id": "Ss3pr-ji65z5"
   },
   "outputs": [],
   "source": [
    "# Estandarizamos datos númericos\n",
    "days_scaler = StandardScaler()\n",
    "df_encoded[ df_final.select_dtypes(include='number').columns] = days_scaler.fit_transform(df_final[ df_final.select_dtypes(include='number').columns])\n"
   ]
  },
  {
   "cell_type": "markdown",
   "metadata": {
    "id": "f7j2LIIzV1y1"
   },
   "source": [
    "Con esto, hemos finalizado el proceso de **preparación y transformación** de los datos. Ahora, nuestro conjunto de datos está listo para la siguiente etapa del proyecto: la **selección del modelo**, donde compararemos diferentes enfoques para determinar cuál ofrece el mejor rendimiento."
   ]
  },
  {
   "cell_type": "markdown",
   "metadata": {
    "id": "BNWhAPynXU7q"
   },
   "source": [
    "## Selección del Modelo  \n",
    "\n",
    "En esta sección, evaluaremos diferentes modelos de machine learning para determinar cuál se adapta mejor a nuestro conjunto de datos. Para la comparación, utilizaremos el **Área Bajo la Curva (AUC)** como métrica principal, sin realizar ajustes iniciales en los modelos.  \n",
    "\n",
    "Dado que nuestro conjunto de datos está compuesto principalmente por **características categóricas**, es probable que los modelos basados en **árboles de decisión** ofrezcan el mejor rendimiento. Sin embargo, también probaremos enfoques alternativos, como **modelos lineales** y algoritmos basados en **distancia euclidiana**, como **K-Nearest Neighbors (KNN)**.  \n",
    "\n",
    "Este análisis nos permitirá seleccionar el modelo más adecuado para predecir la retención de clientes de manera eficiente."
   ]
  },
  {
   "cell_type": "code",
   "execution_count": 68,
   "metadata": {
    "id": "RLGtAYGxxWpb"
   },
   "outputs": [],
   "source": [
    "# Comparación del rendimiento de multiples mosdelos.\n",
    "\n",
    "from sklearn.model_selection import cross_val_score\n",
    "from sklearn.ensemble import RandomForestClassifier, GradientBoostingClassifier, BaggingClassifier, AdaBoostClassifier\n",
    "from sklearn.svm import LinearSVC, SVC\n",
    "from sklearn.linear_model import LogisticRegression, SGDClassifier\n",
    "from sklearn.neighbors import KNeighborsClassifier\n",
    "\n",
    "\n",
    "scores = []\n",
    "\n",
    "# Modelos sobre los que se realizarán pruebas.\n",
    "models = [RandomForestClassifier( random_state=42),\n",
    "          AdaBoostClassifier( random_state=42),\n",
    "          GradientBoostingClassifier( random_state=42),\n",
    "          LinearSVC( random_state=42),\n",
    "          LogisticRegression( random_state=42),\n",
    "          KNeighborsClassifier(),\n",
    "          BaggingClassifier( random_state=42),\n",
    "          SGDClassifier( random_state=42),\n",
    "          SVC( random_state=42)\n",
    "          ]\n",
    "# Nombres de los modelos.\n",
    "models_names = ['Random Forest',\n",
    "                'AdaBoost',\n",
    "                'Gradient Boosting',\n",
    "                'Linear SVC',\n",
    "                'Logistic Regression',\n",
    "                'KNN',\n",
    "                'Bagging',\n",
    "                'SGD',\n",
    "                'SVC']\n",
    "\n",
    "# Prueba de rendimiento para cada modelo.\n",
    "for index in range(len(models)):\n",
    "  score = cross_val_score(models[index], df_encoded, df_target, cv=7, scoring='roc_auc')\n",
    "\n",
    "  scores.append( score.mean() )\n"
   ]
  },
  {
   "cell_type": "markdown",
   "metadata": {
    "id": "I3ZhUr--hm1B"
   },
   "source": [
    "La celda de código anterior utiliza **validación cruzada** para calcular el **AUC** de cada modelo y comparar su rendimiento.  \n",
    "\n",
    "Optamos por la validación cruzada porque es un método **robusto y confiable** para estimar el desempeño de un modelo en datos no vistos. Al dividir los datos en múltiples subconjuntos de entrenamiento y prueba, garantizamos una evaluación más equilibrada y reducimos el riesgo de sobreajuste."
   ]
  },
  {
   "cell_type": "code",
   "execution_count": 70,
   "metadata": {
    "id": "PPY8Vfkee0xn"
   },
   "outputs": [],
   "source": [
    "# Creamos un data frame con los resultados obtenidos para poder gráficarlos\n",
    "df_scores = pd.DataFrame( {'score':scores, 'model':models_names } )\n",
    "df_scores.sort_values(by='score', ascending=False, inplace=True)"
   ]
  },
  {
   "cell_type": "code",
   "execution_count": 71,
   "metadata": {
    "colab": {
     "base_uri": "https://localhost:8080/"
    },
    "id": "pQdOAHoxJE1T",
    "outputId": "cba0e441-9728-45a1-f815-89acc7890d5e"
   },
   "outputs": [
    {
     "data": {
      "image/png": "[encoded data removed]",
      "text/plain": [
       "<Figure size 1500x800 with 1 Axes>"
      ]
     },
     "metadata": {},
     "output_type": "display_data"
    }
   ],
   "source": [
    "fig, ax = plt.subplots(figsize=(15,8))\n",
    "ax.bar(df_scores['model'], df_scores['score'])\n",
    "ax.set_xlabel('Número de características')\n",
    "ax.set_ylabel('AUC-ROC Score')\n",
    "ax.set_title('Desempeño de modelos')\n",
    "plt.grid()\n",
    "plt.show()\n",
    "\n"
   ]
  },
  {
   "cell_type": "markdown",
   "metadata": {
    "id": "BvmqS2QYCsN1"
   },
   "source": [
    "Como se observa en la gráfica, el rendimiento de todos los modelos es **bastante sólido**, incluso sin realizar ajustes en los hiperparámetros. Sin embargo, los dos mejores modelos son:  \n",
    "\n",
    "- **AdaBoost**, con un AUC aproximado de **0.85**.  \n",
    "- **Gradient Boosting**, que alcanza casi **0.89** de AUC.  \n",
    "\n",
    "Es importante destacar que estos modelos han logrado un desempeño sobresaliente **a pesar del desequilibrio de clases** y sin optimización previa de sus hiperparámetros.  \n",
    "\n",
    "Ahora que hemos identificado los modelos más prometedores, avanzaremos a la siguiente sección, donde nos enfocaremos en **mejorar su rendimiento** mediante el ajuste de hiperparámetros y técnicas de optimización."
   ]
  },
  {
   "cell_type": "markdown",
   "metadata": {
    "id": "3LJNL12PZRao"
   },
   "source": [
    "## Mejorando el Rendimiento del Modelo  \n",
    "\n",
    "En la sección anterior, identificamos que el modelo con mejor desempeño en nuestro conjunto de datos es **GradientBoostingClassifier**, alcanzando un **AUC-ROC de 0.89**. Es importante recordar que este resultado se obtuvo **sin abordar el problema del desequilibrio de clases** y sin realizar **ajustes en los hiperparámetros**.  \n",
    "\n",
    "### Estrategia de Optimización  \n",
    "\n",
    "En esta sección, intentaremos mejorar el rendimiento del modelo mediante:  \n",
    "1. **Tratamiento del desbalance de clases**.  \n",
    "2. **Ajuste de hiperparámetros** para optimizar su desempeño.  \n",
    "\n",
    "Sin embargo, es importante considerar que **GradientBoostingClassifier**, al estar basado en árboles de decisión, maneja **relativamente bien** el desequilibrio de clases, por lo que el sobremuestreo podría no proporcionar una mejora significativa.  \n",
    "\n",
    "### Consideraciones sobre Validación y Optimización  \n",
    "\n",
    "Si el **sobremuestreo** resulta ser una estrategia viable, debemos tener en cuenta que métodos como **validación cruzada** y **RandomizedSearchCV** podrían **no ser directamente aplicables** sin modificaciones. Esto se debe al riesgo de **data leakage**, lo que podría sesgar la evaluación del modelo y generar resultados poco confiables.  \n"
   ]
  },
  {
   "cell_type": "code",
   "execution_count": 74,
   "metadata": {
    "id": "L6muRFYrZzQP"
   },
   "outputs": [],
   "source": [
    "# Se dividirán los datos en un conjunto de entrenamiento y uno de prueba\n",
    "\n",
    "from sklearn.model_selection import train_test_split\n",
    "\n",
    "X_train, X_temp, y_train, y_temp = train_test_split(\n",
    "    df_encoded,\n",
    "    df_target,\n",
    "    test_size=0.3,\n",
    "    random_state=42)\n",
    "\n",
    "X_val, X_test, y_val, y_test = train_test_split(\n",
    "    X_temp,\n",
    "    y_temp,\n",
    "    test_size=0.5,\n",
    "    random_state=42)\n"
   ]
  },
  {
   "cell_type": "markdown",
   "metadata": {
    "id": "COWJvU2lv6oW"
   },
   "source": [
    "El primer paso será determinar si el **sobremuestreo** mejora el desempeño del modelo. Para ello, crearemos tres conjuntos de datos:  \n",
    "\n",
    "1. **Conjunto de entrenamiento**: Utilizado para ajustar el modelo.\n",
    "2. **Conjunto de validación**: Ayudará a ajustar los hiperparámetros y evitar sobreajuste.  \n",
    "3. **Conjunto de prueba**: Empleado para evaluar el desempeño final.    \n",
    "\n",
    "Esta estructura nos permitirá comparar el rendimiento del modelo con y sin sobremuestreo de manera objetiva."
   ]
  },
  {
   "cell_type": "code",
   "execution_count": 76,
   "metadata": {
    "id": "W3XIFv3cNnPW"
   },
   "outputs": [],
   "source": [
    "# La función eval_mod nos ayudará a evaluar el modelo más fácilmente.\n",
    "from sklearn.metrics import roc_auc_score\n",
    "\n",
    "def eval_mod(model, X_train, y_train, X_val, y_val,):\n",
    "  model.fit(X_train, y_train)\n",
    "  y_pred = model.predict_proba(X_val)\n",
    "  y_pred = y_pred[:,1]\n",
    "  return roc_auc_score(y_val, y_pred)"
   ]
  },
  {
   "cell_type": "code",
   "execution_count": 77,
   "metadata": {
    "colab": {
     "base_uri": "https://localhost:8080/"
    },
    "id": "3i8Lz95bN7oL",
    "outputId": "a9a85753-5240-40ea-b86a-2a18db8636b2"
   },
   "outputs": [
    {
     "name": "stdout",
     "output_type": "stream",
     "text": [
      "El AUC-ROC del modelo actualmente es de: 0.8988251558136525\n"
     ]
    }
   ],
   "source": [
    "\n",
    "model = GradientBoostingClassifier( random_state=42)\n",
    "\n",
    "score = eval_mod(model, X_train, y_train.values.ravel(), X_val, y_val)\n",
    "\n",
    "print( f'El AUC-ROC del modelo actualmente es de: {score}')"
   ]
  },
  {
   "cell_type": "markdown",
   "metadata": {
    "id": "1a4G2Y_DxGGu"
   },
   "source": [
    "Antes de ejecutar el **sobremuestreo**, es importante recordar que el modelo actualmente alcanza un **AUC-ROC de 0.8988**.  \n",
    "\n",
    "Este valor servirá como referencia para evaluar si la aplicación del sobremuestreo genera una **mejora significativa** en el rendimiento del modelo o si, por el contrario, no aporta beneficios sustanciales."
   ]
  },
  {
   "cell_type": "code",
   "execution_count": 79,
   "metadata": {
    "id": "Jr2RVTq6jsKV"
   },
   "outputs": [],
   "source": [
    "# # Ahora abordaremos el problema del desbalanceo de clases con un sobremuestreo.\n",
    "from sklearn.utils import shuffle\n",
    "\n",
    "majority = y_train[y_train == 0]\n",
    "minority = y_train[y_train == 1]\n",
    "\n",
    "total = len(majority) - len(minority)\n",
    "\n",
    "samples_x = pd.DataFrame()\n",
    "samples_y = pd.DataFrame()\n",
    "\n",
    "for i in range(total):\n",
    "    index = minority.sample(1).index[0]\n",
    "    samples_x = pd.concat([samples_x, X_train.loc[[index]]])\n",
    "    samples_y = pd.concat([samples_y, y_train.loc[[index]]])\n",
    "\n",
    "X_train = pd.concat([X_train, samples_x])\n",
    "y_train = pd.concat([y_train, samples_y])\n",
    "\n",
    "# Mezclamos los dataframes aleatoriamente\n",
    "X_train, y_train = shuffle(X_train, y_train, random_state=42)"
   ]
  },
  {
   "cell_type": "code",
   "execution_count": 80,
   "metadata": {
    "colab": {
     "base_uri": "https://localhost:8080/"
    },
    "id": "KDc8g8wMoFge",
    "outputId": "8a8c80b0-a87d-466c-fc0e-de2f233e0b64"
   },
   "outputs": [
    {
     "data": {
      "image/png": "[encoded data removed]",
      "text/plain": [
       "<Figure size 1000x500 with 1 Axes>"
      ]
     },
     "metadata": {},
     "output_type": "display_data"
    }
   ],
   "source": [
    "# Comprobamos el equilibrio de las clases\n",
    "fig, ax = plt.subplots( figsize=(10,5))\n",
    "y_train.value_counts().plot(\n",
    "    kind='bar',\n",
    "    ax=ax,\n",
    "    ylabel = 'Cantidad de clientes',\n",
    "    title = 'Las clases están equilibradas.')\n",
    "\n",
    "plt.show()"
   ]
  },
  {
   "cell_type": "code",
   "execution_count": 81,
   "metadata": {
    "colab": {
     "base_uri": "https://localhost:8080/"
    },
    "id": "_lTYgHAvORXm",
    "outputId": "50190821-7f0b-4e28-b82b-76d4a2482554"
   },
   "outputs": [
    {
     "data": {
      "text/plain": [
       "0.8973040076935881"
      ]
     },
     "execution_count": 81,
     "metadata": {},
     "output_type": "execute_result"
    }
   ],
   "source": [
    "\n",
    "model = GradientBoostingClassifier(random_state=42)\n",
    "\n",
    "eval_mod(model, X_train, y_train.values.ravel(), X_val, y_val)"
   ]
  },
  {
   "cell_type": "markdown",
   "metadata": {
    "id": "eIi5jBa5xuDm"
   },
   "source": [
    "\n",
    "\n",
    "Desafortunadamente, en este caso, el **sobremuestreo no proporciona ninguna mejora significativa** en el desempeño del modelo. Esto indica que **GradientBoostingClassifier** no se ve afectado por el desbalance de clases y es capaz de manejarlo de manera efectiva.  \n",
    "\n",
    "Si bien el sobremuestreo no resultó útil, su descarte nos brinda **dos ventajas clave**:  \n",
    "\n",
    "1. **Facilita la validación y optimización del modelo**, ya que ahora podemos emplear **validación cruzada** y **búsqueda aleatoria de hiperparámetros** sin preocuparnos por el riesgo de **data leakage**.  \n",
    "2. **Mayor cantidad de datos para el entrenamiento**, ya que ahora solo necesitaremos dos conjuntos:  \n",
    "   - **Conjunto de entrenamiento**: Para ajustar el modelo.  \n",
    "   - **Conjunto de prueba**: Para evaluar su desempeño final.  \n",
    "\n",
    "Al no requerir un conjunto de validación separado, **aprovechamos mejor los datos disponibles**, lo que potencialmente puede mejorar la capacidad del modelo para generalizar."
   ]
  },
  {
   "cell_type": "code",
   "execution_count": 83,
   "metadata": {
    "id": "g-NYNRJlWN5P"
   },
   "outputs": [],
   "source": [
    "# Creamos los conjuntos de datos necesarios.\n",
    "X_train, X_test, y_train, y_test = train_test_split(\n",
    "    df_encoded,\n",
    "    df_target,\n",
    "    test_size=0.15,\n",
    "    random_state=42)"
   ]
  },
  {
   "cell_type": "markdown",
   "metadata": {
    "id": "PLOLSlWt2rp6"
   },
   "source": [
    "Dado que **GradientBoostingClassifier** cuenta con una gran cantidad de hiperparámetros, ajustarlos manualmente sería un proceso demasiado lento e ineficiente.  \n",
    "\n",
    "Para optimizar el modelo de manera más rápida y efectiva, utilizaremos **RandomizedSearchCV**, una técnica que permite explorar una amplia gama de combinaciones de hiperparámetros de forma aleatoria, maximizando las probabilidades de encontrar una configuración óptima en **menos tiempo**.  \n",
    "\n",
    "Este enfoque nos permitirá mejorar el desempeño del modelo sin necesidad de realizar un ajuste manual exhaustivo."
   ]
  },
  {
   "cell_type": "code",
   "execution_count": 85,
   "metadata": {
    "id": "H48EmpiD3rLI"
   },
   "outputs": [],
   "source": [
    "# # Realizamos busqueda aleatoria de parametros para gradient boost\n",
    "\n",
    "# from sklearn.model_selection import RandomizedSearchCV\n",
    "# from scipy.stats import randint, uniform\n",
    "\n",
    "# model_gradient = GradientBoostingClassifier(random_state=42, n_iter_no_change=20, tol=.001)\n",
    "\n",
    "# param_grid = {\n",
    "#     'n_estimators': randint(50,500),\n",
    "#     'learning_rate': uniform(0.01, 1),\n",
    "#     'max_depth': randint(3,15),\n",
    "#     'min_samples_split': randint(2,40),\n",
    "#     'min_samples_leaf': randint(1,20),\n",
    "# }\n",
    "\n",
    "# #Usamos la busqueda de parametros de forma aleatoria\n",
    "# random = RandomizedSearchCV(model_gradient, param_grid, n_iter=300, cv=7, scoring='roc_auc', random_state=42, n_jobs=-1)\n",
    "\n",
    "# random.fit(X_train, y_train)\n",
    "\n",
    "\n",
    "# print(f'Los mejores parametros son: {random.best_params_}')\n",
    "# print(f'El mejor score es: {random.best_score_}')"
   ]
  },
  {
   "cell_type": "markdown",
   "metadata": {
    "id": "Dp3HkV3sF3ac"
   },
   "source": [
    "> **Nota:**  \n",
    "> La celda anterior ejecuta **RandomizedSearchCV** para buscar la mejor combinación de hiperparámetros. Sin embargo, debido a que su ejecución puede tomar un tiempo considerable (**aproximadamente 30 minutos**), el código ha sido **comentado** para evitar su ejecución automática.  \n",
    "\n",
    "A continuación, se presentan los **mejores parámetros encontrados** por la búsqueda aleatoria:  \n",
    "\n",
    "- **`learning_rate`**: `0.5012`  \n",
    "- **`max_depth`**: `3`  \n",
    "- **`min_samples_leaf`**: `3`  \n",
    "- **`min_samples_split`**: `33`  \n",
    "- **`n_estimators`**: `276`  \n",
    "\n",
    "Con esta configuración, el **mejor puntaje obtenido** fue: **0.9206**.  \n",
    "\n",
    "Si deseas **comprobar estos resultados**, simplemente **descomenta las líneas de código** correspondientes y ejecuta nuevamente esta sección."
   ]
  },
  {
   "cell_type": "markdown",
   "metadata": {
    "id": "oLFhdCvDpfG0"
   },
   "source": [
    "Como paso final, se realizará una selección de las características más relevantes. Este proceso tiene como objetivo eliminar aquellas variables que no aportan valor significativo al modelo, reduciendo así la complejidad del conjunto de datos. Al descartar características innecesarias, se optimiza el rendimiento del modelo, mejorando tanto la eficiencia computacional como la precisión de las predicciones."
   ]
  },
  {
   "cell_type": "code",
   "execution_count": 88,
   "metadata": {
    "colab": {
     "base_uri": "https://localhost:8080/"
    },
    "id": "ZRFhkdSqgAH5",
    "outputId": "5e69994a-d3e7-4332-d6ca-88d6265a95e2"
   },
   "outputs": [],
   "source": [
    "# # Revisando las caracteristicas con mayor importancia.\n",
    "# importances = random.best_estimator_.feature_importances_\n",
    "\n",
    "# importances = pd.DataFrame({'feature':X_train.columns, 'importance':importances})\n",
    "\n",
    "# importances.sort_values(by='importance', ascending=False, inplace=True)\n",
    "\n",
    "# importances.plot(kind='bar', x='feature', y='importance', figsize=(15,8))\n",
    "# plt.show()"
   ]
  },
  {
   "cell_type": "markdown",
   "metadata": {
    "id": "NoEKBQsAtHZZ"
   },
   "source": [
    "\n",
    "Como se puede observar en la gráfica, la mayoría de las características no aportan un valor significativo al modelo. En realidad, existen cinco factores clave que influyen en la decisión de un cliente de abandonar o no el servicio:\n",
    "\n",
    "- El tiempo que el cliente ha permanecido con la compañía.\n",
    "- Si el pago del servicio se realiza de forma mensual.\n",
    "- Si el tipo de conexión a internet es mediante fibra óptica.\n",
    "- Si el método de pago es a través de cheque electrónico.\n",
    "- Si el cliente cuenta o no con servicio de internet.\n",
    "\n",
    "Con base en esta información, es posible reducir el número total de características de 45 a solo 5. Esta reducción conlleva una mejora sustancial en el tiempo de predicción y en la eficiencia del modelo. A continuación, evaluaremos el rendimiento del modelo utilizando únicamente estas cinco variables.\n",
    "\n",
    "> **Nota:**  \n",
    "> La celda anterior necesita de la ejecución de busqueda de parametros aleatorios para funcionar por lo que si se desea ver el resultado hay que descomentarla y ejecutar toda la sección de nuevo.\n"
   ]
  },
  {
   "cell_type": "code",
   "execution_count": 90,
   "metadata": {
    "colab": {
     "base_uri": "https://localhost:8080/"
    },
    "id": "76Nq0joaig9Y",
    "outputId": "fcdd54ae-a0e9-4396-d335-c7c688ede03a"
   },
   "outputs": [],
   "source": [
    "# main_features = importances.head(5).feature.to_list()\n",
    "\n",
    "# puntajes = cross_val_score(random.best_estimator_, X_train[main_features], y_train, cv=7, scoring='roc_auc')\n",
    "\n",
    "# print(f'El score del modelo es: {puntajes.mean()}')"
   ]
  },
  {
   "cell_type": "markdown",
   "metadata": {
    "id": "rmdQsx03vUzW"
   },
   "source": [
    "\n",
    "Como se puede observar, el modelo mejoró significativamente tras la reducción de características, aumentando el valor del AUC de **0.9206** a **0.9303**. Esta mejora es el resultado de eliminar variables irrelevantes y de **ajustar adecuadamente los hiperparámetros**.\n",
    "\n",
    "Gracias a esta optimización, el modelo no solo es más eficiente, sino también más preciso en sus predicciones. Con esta etapa completada, estamos en condiciones de avanzar a la siguiente fase del proyecto: **el entrenamiento y la evaluación final del modelo**.\n",
    "\n",
    "> **Nota:**  \n",
    "> La celda anterior necesita de la ejecución de busqueda de parametros aleatorios para funcionar por lo que si se desea ver el resultado hay que descomentarla y ejecutar toda la sección de nuevo."
   ]
  },
  {
   "cell_type": "markdown",
   "metadata": {
    "id": "mGmsNjxhSw47"
   },
   "source": [
    "## Entrenamiento y Evaluación del Modelo  \n",
    "\n",
    "En esta sección, evaluaremos la **efectividad real** de todas las estrategias y ajustes aplicados hasta el momento.  \n",
    "\n",
    "Para ello, procederemos con el **entrenamiento** del modelo y su posterior **evaluación**, asegurándonos de que:  \n",
    "\n",
    "- **Generalice correctamente** a nuevos datos.  \n",
    "- **No presente sobreajuste**, manteniendo un equilibrio entre sesgo y varianza.  \n",
    "\n",
    "Este análisis nos permitirá validar si las mejoras implementadas han tenido un impacto positivo en el rendimiento del modelo."
   ]
  },
  {
   "cell_type": "markdown",
   "metadata": {
    "id": "3QKtdAy2WCss"
   },
   "source": [
    "\n",
    "### Entrenamiento del Modelo  \n",
    "\n",
    "En este paso, procederemos a **entrenar el modelo** utilizando el conjunto de **datos de entrenamiento** y los **hiperparámetros óptimos** obtenidos en nuestra búsqueda.  \n",
    "\n",
    "Este proceso permitirá que el modelo **aprenda los patrones** en los datos para realizar predicciones precisas en la siguiente etapa de evaluación."
   ]
  },
  {
   "cell_type": "code",
   "execution_count": 94,
   "metadata": {},
   "outputs": [],
   "source": [
    "\n",
    "main_features = ['days', 'type_Month-to-month', 'internetservice_Fiber optic', 'paymentmethod_Electronic check', 'internetservice_None']"
   ]
  },
  {
   "cell_type": "code",
   "execution_count": 95,
   "metadata": {
    "id": "PRV2FNlbV_L1"
   },
   "outputs": [],
   "source": [
    "# Parametros obtenidos en la busqueda.\n",
    "best_params = {'learning_rate': 0.5012, 'max_depth': 3, 'min_samples_leaf': 3, 'min_samples_split': 33, 'n_estimators': 276}"
   ]
  },
  {
   "cell_type": "code",
   "execution_count": 96,
   "metadata": {
    "id": "qk4JKn9Eyrp1"
   },
   "outputs": [],
   "source": [
    "# Reduciendo las carecteristicas solo a las prioncipales.\n",
    "X_train = X_train[main_features]\n",
    "X_test = X_test[main_features]"
   ]
  },
  {
   "cell_type": "code",
   "execution_count": 97,
   "metadata": {
    "colab": {
     "base_uri": "https://localhost:8080/"
    },
    "id": "-afth4EKIFNE",
    "outputId": "58fccee5-2f03-4c58-b7f5-dfdd712d4200"
   },
   "outputs": [
    {
     "data": {
      "text/html": [
       "<style>#sk-container-id-1 {\n",
       "  /* Definition of color scheme common for light and dark mode */\n",
       "  --sklearn-color-text: #000;\n",
       "  --sklearn-color-text-muted: #666;\n",
       "  --sklearn-color-line: gray;\n",
       "  /* Definition of color scheme for unfitted estimators */\n",
       "  --sklearn-color-unfitted-level-0: #fff5e6;\n",
       "  --sklearn-color-unfitted-level-1: #f6e4d2;\n",
       "  --sklearn-color-unfitted-level-2: #ffe0b3;\n",
       "  --sklearn-color-unfitted-level-3: chocolate;\n",
       "  /* Definition of color scheme for fitted estimators */\n",
       "  --sklearn-color-fitted-level-0: #f0f8ff;\n",
       "  --sklearn-color-fitted-level-1: #d4ebff;\n",
       "  --sklearn-color-fitted-level-2: #b3dbfd;\n",
       "  --sklearn-color-fitted-level-3: cornflowerblue;\n",
       "\n",
       "  /* Specific color for light theme */\n",
       "  --sklearn-color-text-on-default-background: var(--sg-text-color, var(--theme-code-foreground, var(--jp-content-font-color1, black)));\n",
       "  --sklearn-color-background: var(--sg-background-color, var(--theme-background, var(--jp-layout-color0, white)));\n",
       "  --sklearn-color-border-box: var(--sg-text-color, var(--theme-code-foreground, var(--jp-content-font-color1, black)));\n",
       "  --sklearn-color-icon: #696969;\n",
       "\n",
       "  @media (prefers-color-scheme: dark) {\n",
       "    /* Redefinition of color scheme for dark theme */\n",
       "    --sklearn-color-text-on-default-background: var(--sg-text-color, var(--theme-code-foreground, var(--jp-content-font-color1, white)));\n",
       "    --sklearn-color-background: var(--sg-background-color, var(--theme-background, var(--jp-layout-color0, #111)));\n",
       "    --sklearn-color-border-box: var(--sg-text-color, var(--theme-code-foreground, var(--jp-content-font-color1, white)));\n",
       "    --sklearn-color-icon: #878787;\n",
       "  }\n",
       "}\n",
       "\n",
       "#sk-container-id-1 {\n",
       "  color: var(--sklearn-color-text);\n",
       "}\n",
       "\n",
       "#sk-container-id-1 pre {\n",
       "  padding: 0;\n",
       "}\n",
       "\n",
       "#sk-container-id-1 input.sk-hidden--visually {\n",
       "  border: 0;\n",
       "  clip: rect(1px 1px 1px 1px);\n",
       "  clip: rect(1px, 1px, 1px, 1px);\n",
       "  height: 1px;\n",
       "  margin: -1px;\n",
       "  overflow: hidden;\n",
       "  padding: 0;\n",
       "  position: absolute;\n",
       "  width: 1px;\n",
       "}\n",
       "\n",
       "#sk-container-id-1 div.sk-dashed-wrapped {\n",
       "  border: 1px dashed var(--sklearn-color-line);\n",
       "  margin: 0 0.4em 0.5em 0.4em;\n",
       "  box-sizing: border-box;\n",
       "  padding-bottom: 0.4em;\n",
       "  background-color: var(--sklearn-color-background);\n",
       "}\n",
       "\n",
       "#sk-container-id-1 div.sk-container {\n",
       "  /* jupyter's `normalize.less` sets `[hidden] { display: none; }`\n",
       "     but bootstrap.min.css set `[hidden] { display: none !important; }`\n",
       "     so we also need the `!important` here to be able to override the\n",
       "     default hidden behavior on the sphinx rendered scikit-learn.org.\n",
       "     See: https://github.com/scikit-learn/scikit-learn/issues/21755 */\n",
       "  display: inline-block !important;\n",
       "  position: relative;\n",
       "}\n",
       "\n",
       "#sk-container-id-1 div.sk-text-repr-fallback {\n",
       "  display: none;\n",
       "}\n",
       "\n",
       "div.sk-parallel-item,\n",
       "div.sk-serial,\n",
       "div.sk-item {\n",
       "  /* draw centered vertical line to link estimators */\n",
       "  background-image: linear-gradient(var(--sklearn-color-text-on-default-background), var(--sklearn-color-text-on-default-background));\n",
       "  background-size: 2px 100%;\n",
       "  background-repeat: no-repeat;\n",
       "  background-position: center center;\n",
       "}\n",
       "\n",
       "/* Parallel-specific style estimator block */\n",
       "\n",
       "#sk-container-id-1 div.sk-parallel-item::after {\n",
       "  content: \"\";\n",
       "  width: 100%;\n",
       "  border-bottom: 2px solid var(--sklearn-color-text-on-default-background);\n",
       "  flex-grow: 1;\n",
       "}\n",
       "\n",
       "#sk-container-id-1 div.sk-parallel {\n",
       "  display: flex;\n",
       "  align-items: stretch;\n",
       "  justify-content: center;\n",
       "  background-color: var(--sklearn-color-background);\n",
       "  position: relative;\n",
       "}\n",
       "\n",
       "#sk-container-id-1 div.sk-parallel-item {\n",
       "  display: flex;\n",
       "  flex-direction: column;\n",
       "}\n",
       "\n",
       "#sk-container-id-1 div.sk-parallel-item:first-child::after {\n",
       "  align-self: flex-end;\n",
       "  width: 50%;\n",
       "}\n",
       "\n",
       "#sk-container-id-1 div.sk-parallel-item:last-child::after {\n",
       "  align-self: flex-start;\n",
       "  width: 50%;\n",
       "}\n",
       "\n",
       "#sk-container-id-1 div.sk-parallel-item:only-child::after {\n",
       "  width: 0;\n",
       "}\n",
       "\n",
       "/* Serial-specific style estimator block */\n",
       "\n",
       "#sk-container-id-1 div.sk-serial {\n",
       "  display: flex;\n",
       "  flex-direction: column;\n",
       "  align-items: center;\n",
       "  background-color: var(--sklearn-color-background);\n",
       "  padding-right: 1em;\n",
       "  padding-left: 1em;\n",
       "}\n",
       "\n",
       "\n",
       "/* Toggleable style: style used for estimator/Pipeline/ColumnTransformer box that is\n",
       "clickable and can be expanded/collapsed.\n",
       "- Pipeline and ColumnTransformer use this feature and define the default style\n",
       "- Estimators will overwrite some part of the style using the `sk-estimator` class\n",
       "*/\n",
       "\n",
       "/* Pipeline and ColumnTransformer style (default) */\n",
       "\n",
       "#sk-container-id-1 div.sk-toggleable {\n",
       "  /* Default theme specific background. It is overwritten whether we have a\n",
       "  specific estimator or a Pipeline/ColumnTransformer */\n",
       "  background-color: var(--sklearn-color-background);\n",
       "}\n",
       "\n",
       "/* Toggleable label */\n",
       "#sk-container-id-1 label.sk-toggleable__label {\n",
       "  cursor: pointer;\n",
       "  display: flex;\n",
       "  width: 100%;\n",
       "  margin-bottom: 0;\n",
       "  padding: 0.5em;\n",
       "  box-sizing: border-box;\n",
       "  text-align: center;\n",
       "  align-items: start;\n",
       "  justify-content: space-between;\n",
       "  gap: 0.5em;\n",
       "}\n",
       "\n",
       "#sk-container-id-1 label.sk-toggleable__label .caption {\n",
       "  font-size: 0.6rem;\n",
       "  font-weight: lighter;\n",
       "  color: var(--sklearn-color-text-muted);\n",
       "}\n",
       "\n",
       "#sk-container-id-1 label.sk-toggleable__label-arrow:before {\n",
       "  /* Arrow on the left of the label */\n",
       "  content: \"▸\";\n",
       "  float: left;\n",
       "  margin-right: 0.25em;\n",
       "  color: var(--sklearn-color-icon);\n",
       "}\n",
       "\n",
       "#sk-container-id-1 label.sk-toggleable__label-arrow:hover:before {\n",
       "  color: var(--sklearn-color-text);\n",
       "}\n",
       "\n",
       "/* Toggleable content - dropdown */\n",
       "\n",
       "#sk-container-id-1 div.sk-toggleable__content {\n",
       "  max-height: 0;\n",
       "  max-width: 0;\n",
       "  overflow: hidden;\n",
       "  text-align: left;\n",
       "  /* unfitted */\n",
       "  background-color: var(--sklearn-color-unfitted-level-0);\n",
       "}\n",
       "\n",
       "#sk-container-id-1 div.sk-toggleable__content.fitted {\n",
       "  /* fitted */\n",
       "  background-color: var(--sklearn-color-fitted-level-0);\n",
       "}\n",
       "\n",
       "#sk-container-id-1 div.sk-toggleable__content pre {\n",
       "  margin: 0.2em;\n",
       "  border-radius: 0.25em;\n",
       "  color: var(--sklearn-color-text);\n",
       "  /* unfitted */\n",
       "  background-color: var(--sklearn-color-unfitted-level-0);\n",
       "}\n",
       "\n",
       "#sk-container-id-1 div.sk-toggleable__content.fitted pre {\n",
       "  /* unfitted */\n",
       "  background-color: var(--sklearn-color-fitted-level-0);\n",
       "}\n",
       "\n",
       "#sk-container-id-1 input.sk-toggleable__control:checked~div.sk-toggleable__content {\n",
       "  /* Expand drop-down */\n",
       "  max-height: 200px;\n",
       "  max-width: 100%;\n",
       "  overflow: auto;\n",
       "}\n",
       "\n",
       "#sk-container-id-1 input.sk-toggleable__control:checked~label.sk-toggleable__label-arrow:before {\n",
       "  content: \"▾\";\n",
       "}\n",
       "\n",
       "/* Pipeline/ColumnTransformer-specific style */\n",
       "\n",
       "#sk-container-id-1 div.sk-label input.sk-toggleable__control:checked~label.sk-toggleable__label {\n",
       "  color: var(--sklearn-color-text);\n",
       "  background-color: var(--sklearn-color-unfitted-level-2);\n",
       "}\n",
       "\n",
       "#sk-container-id-1 div.sk-label.fitted input.sk-toggleable__control:checked~label.sk-toggleable__label {\n",
       "  background-color: var(--sklearn-color-fitted-level-2);\n",
       "}\n",
       "\n",
       "/* Estimator-specific style */\n",
       "\n",
       "/* Colorize estimator box */\n",
       "#sk-container-id-1 div.sk-estimator input.sk-toggleable__control:checked~label.sk-toggleable__label {\n",
       "  /* unfitted */\n",
       "  background-color: var(--sklearn-color-unfitted-level-2);\n",
       "}\n",
       "\n",
       "#sk-container-id-1 div.sk-estimator.fitted input.sk-toggleable__control:checked~label.sk-toggleable__label {\n",
       "  /* fitted */\n",
       "  background-color: var(--sklearn-color-fitted-level-2);\n",
       "}\n",
       "\n",
       "#sk-container-id-1 div.sk-label label.sk-toggleable__label,\n",
       "#sk-container-id-1 div.sk-label label {\n",
       "  /* The background is the default theme color */\n",
       "  color: var(--sklearn-color-text-on-default-background);\n",
       "}\n",
       "\n",
       "/* On hover, darken the color of the background */\n",
       "#sk-container-id-1 div.sk-label:hover label.sk-toggleable__label {\n",
       "  color: var(--sklearn-color-text);\n",
       "  background-color: var(--sklearn-color-unfitted-level-2);\n",
       "}\n",
       "\n",
       "/* Label box, darken color on hover, fitted */\n",
       "#sk-container-id-1 div.sk-label.fitted:hover label.sk-toggleable__label.fitted {\n",
       "  color: var(--sklearn-color-text);\n",
       "  background-color: var(--sklearn-color-fitted-level-2);\n",
       "}\n",
       "\n",
       "/* Estimator label */\n",
       "\n",
       "#sk-container-id-1 div.sk-label label {\n",
       "  font-family: monospace;\n",
       "  font-weight: bold;\n",
       "  display: inline-block;\n",
       "  line-height: 1.2em;\n",
       "}\n",
       "\n",
       "#sk-container-id-1 div.sk-label-container {\n",
       "  text-align: center;\n",
       "}\n",
       "\n",
       "/* Estimator-specific */\n",
       "#sk-container-id-1 div.sk-estimator {\n",
       "  font-family: monospace;\n",
       "  border: 1px dotted var(--sklearn-color-border-box);\n",
       "  border-radius: 0.25em;\n",
       "  box-sizing: border-box;\n",
       "  margin-bottom: 0.5em;\n",
       "  /* unfitted */\n",
       "  background-color: var(--sklearn-color-unfitted-level-0);\n",
       "}\n",
       "\n",
       "#sk-container-id-1 div.sk-estimator.fitted {\n",
       "  /* fitted */\n",
       "  background-color: var(--sklearn-color-fitted-level-0);\n",
       "}\n",
       "\n",
       "/* on hover */\n",
       "#sk-container-id-1 div.sk-estimator:hover {\n",
       "  /* unfitted */\n",
       "  background-color: var(--sklearn-color-unfitted-level-2);\n",
       "}\n",
       "\n",
       "#sk-container-id-1 div.sk-estimator.fitted:hover {\n",
       "  /* fitted */\n",
       "  background-color: var(--sklearn-color-fitted-level-2);\n",
       "}\n",
       "\n",
       "/* Specification for estimator info (e.g. \"i\" and \"?\") */\n",
       "\n",
       "/* Common style for \"i\" and \"?\" */\n",
       "\n",
       ".sk-estimator-doc-link,\n",
       "a:link.sk-estimator-doc-link,\n",
       "a:visited.sk-estimator-doc-link {\n",
       "  float: right;\n",
       "  font-size: smaller;\n",
       "  line-height: 1em;\n",
       "  font-family: monospace;\n",
       "  background-color: var(--sklearn-color-background);\n",
       "  border-radius: 1em;\n",
       "  height: 1em;\n",
       "  width: 1em;\n",
       "  text-decoration: none !important;\n",
       "  margin-left: 0.5em;\n",
       "  text-align: center;\n",
       "  /* unfitted */\n",
       "  border: var(--sklearn-color-unfitted-level-1) 1pt solid;\n",
       "  color: var(--sklearn-color-unfitted-level-1);\n",
       "}\n",
       "\n",
       ".sk-estimator-doc-link.fitted,\n",
       "a:link.sk-estimator-doc-link.fitted,\n",
       "a:visited.sk-estimator-doc-link.fitted {\n",
       "  /* fitted */\n",
       "  border: var(--sklearn-color-fitted-level-1) 1pt solid;\n",
       "  color: var(--sklearn-color-fitted-level-1);\n",
       "}\n",
       "\n",
       "/* On hover */\n",
       "div.sk-estimator:hover .sk-estimator-doc-link:hover,\n",
       ".sk-estimator-doc-link:hover,\n",
       "div.sk-label-container:hover .sk-estimator-doc-link:hover,\n",
       ".sk-estimator-doc-link:hover {\n",
       "  /* unfitted */\n",
       "  background-color: var(--sklearn-color-unfitted-level-3);\n",
       "  color: var(--sklearn-color-background);\n",
       "  text-decoration: none;\n",
       "}\n",
       "\n",
       "div.sk-estimator.fitted:hover .sk-estimator-doc-link.fitted:hover,\n",
       ".sk-estimator-doc-link.fitted:hover,\n",
       "div.sk-label-container:hover .sk-estimator-doc-link.fitted:hover,\n",
       ".sk-estimator-doc-link.fitted:hover {\n",
       "  /* fitted */\n",
       "  background-color: var(--sklearn-color-fitted-level-3);\n",
       "  color: var(--sklearn-color-background);\n",
       "  text-decoration: none;\n",
       "}\n",
       "\n",
       "/* Span, style for the box shown on hovering the info icon */\n",
       ".sk-estimator-doc-link span {\n",
       "  display: none;\n",
       "  z-index: 9999;\n",
       "  position: relative;\n",
       "  font-weight: normal;\n",
       "  right: .2ex;\n",
       "  padding: .5ex;\n",
       "  margin: .5ex;\n",
       "  width: min-content;\n",
       "  min-width: 20ex;\n",
       "  max-width: 50ex;\n",
       "  color: var(--sklearn-color-text);\n",
       "  box-shadow: 2pt 2pt 4pt #999;\n",
       "  /* unfitted */\n",
       "  background: var(--sklearn-color-unfitted-level-0);\n",
       "  border: .5pt solid var(--sklearn-color-unfitted-level-3);\n",
       "}\n",
       "\n",
       ".sk-estimator-doc-link.fitted span {\n",
       "  /* fitted */\n",
       "  background: var(--sklearn-color-fitted-level-0);\n",
       "  border: var(--sklearn-color-fitted-level-3);\n",
       "}\n",
       "\n",
       ".sk-estimator-doc-link:hover span {\n",
       "  display: block;\n",
       "}\n",
       "\n",
       "/* \"?\"-specific style due to the `<a>` HTML tag */\n",
       "\n",
       "#sk-container-id-1 a.estimator_doc_link {\n",
       "  float: right;\n",
       "  font-size: 1rem;\n",
       "  line-height: 1em;\n",
       "  font-family: monospace;\n",
       "  background-color: var(--sklearn-color-background);\n",
       "  border-radius: 1rem;\n",
       "  height: 1rem;\n",
       "  width: 1rem;\n",
       "  text-decoration: none;\n",
       "  /* unfitted */\n",
       "  color: var(--sklearn-color-unfitted-level-1);\n",
       "  border: var(--sklearn-color-unfitted-level-1) 1pt solid;\n",
       "}\n",
       "\n",
       "#sk-container-id-1 a.estimator_doc_link.fitted {\n",
       "  /* fitted */\n",
       "  border: var(--sklearn-color-fitted-level-1) 1pt solid;\n",
       "  color: var(--sklearn-color-fitted-level-1);\n",
       "}\n",
       "\n",
       "/* On hover */\n",
       "#sk-container-id-1 a.estimator_doc_link:hover {\n",
       "  /* unfitted */\n",
       "  background-color: var(--sklearn-color-unfitted-level-3);\n",
       "  color: var(--sklearn-color-background);\n",
       "  text-decoration: none;\n",
       "}\n",
       "\n",
       "#sk-container-id-1 a.estimator_doc_link.fitted:hover {\n",
       "  /* fitted */\n",
       "  background-color: var(--sklearn-color-fitted-level-3);\n",
       "}\n",
       "</style><div id=\"sk-container-id-1\" class=\"sk-top-container\"><div class=\"sk-text-repr-fallback\"><pre>GradientBoostingClassifier(learning_rate=0.5012, min_samples_leaf=3,\n",
       "                           min_samples_split=33, n_estimators=276,\n",
       "                           random_state=42)</pre><b>In a Jupyter environment, please rerun this cell to show the HTML representation or trust the notebook. <br />On GitHub, the HTML representation is unable to render, please try loading this page with nbviewer.org.</b></div><div class=\"sk-container\" hidden><div class=\"sk-item\"><div class=\"sk-estimator fitted sk-toggleable\"><input class=\"sk-toggleable__control sk-hidden--visually\" id=\"sk-estimator-id-1\" type=\"checkbox\" checked><label for=\"sk-estimator-id-1\" class=\"sk-toggleable__label fitted sk-toggleable__label-arrow\"><div><div>GradientBoostingClassifier</div></div><div><a class=\"sk-estimator-doc-link fitted\" rel=\"noreferrer\" target=\"_blank\" href=\"https://scikit-learn.org/1.6/modules/generated/sklearn.ensemble.GradientBoostingClassifier.html\">?<span>Documentation for GradientBoostingClassifier</span></a><span class=\"sk-estimator-doc-link fitted\">i<span>Fitted</span></span></div></label><div class=\"sk-toggleable__content fitted\"><pre>GradientBoostingClassifier(learning_rate=0.5012, min_samples_leaf=3,\n",
       "                           min_samples_split=33, n_estimators=276,\n",
       "                           random_state=42)</pre></div> </div></div></div></div>"
      ],
      "text/plain": [
       "GradientBoostingClassifier(learning_rate=0.5012, min_samples_leaf=3,\n",
       "                           min_samples_split=33, n_estimators=276,\n",
       "                           random_state=42)"
      ]
     },
     "execution_count": 97,
     "metadata": {},
     "output_type": "execute_result"
    }
   ],
   "source": [
    "final_model = GradientBoostingClassifier(random_state=42, **best_params)\n",
    "\n",
    "final_model.fit(X_train, y_train)"
   ]
  },
  {
   "cell_type": "markdown",
   "metadata": {
    "id": "cUFzk4jTIaM_"
   },
   "source": [
    "### Evaluación del Modelo  \n",
    "\n",
    "Para garantizar que el modelo **no esté sobreajustado**, analizaremos su comportamiento mediante **curvas de aprendizaje (learning curves)**.  \n",
    "\n",
    "Posteriormente, realizaremos la **evaluación final** utilizando el **conjunto de prueba**, lo que nos permitirá medir el desempeño real del modelo en datos no vistos.  \n",
    "\n",
    "Este análisis nos brindará una visión clara sobre la **capacidad de generalización** del modelo y la efectividad de las estrategias implementadas."
   ]
  },
  {
   "cell_type": "code",
   "execution_count": 99,
   "metadata": {
    "id": "cvKazFTGJimz"
   },
   "outputs": [],
   "source": [
    "from sklearn.model_selection import learning_curve\n",
    "\n",
    "\n",
    "train_sizes, train_scores, val_scores = learning_curve(\n",
    "    final_model,\n",
    "    X_train,\n",
    "    y_train,\n",
    "    train_sizes=np.linspace(0.01, 1, 20),\n",
    "    cv=7,\n",
    "    scoring='roc_auc',\n",
    "    random_state=42\n",
    "    )"
   ]
  },
  {
   "cell_type": "code",
   "execution_count": 100,
   "metadata": {
    "colab": {
     "base_uri": "https://localhost:8080/"
    },
    "id": "xcf8N7HNNfLn",
    "outputId": "38909be6-0378-4ebe-84a1-b92be8dc9139"
   },
   "outputs": [
    {
     "data": {
      "image/png": "[encoded data removed]",
      "text/plain": [
       "<Figure size 1300x600 with 1 Axes>"
      ]
     },
     "metadata": {},
     "output_type": "display_data"
    }
   ],
   "source": [
    "train_scores_mean = np.mean(train_scores, axis=1)\n",
    "val_scores_mean = np.mean(val_scores, axis=1)\n",
    "\n",
    "plt.figure(figsize=(13, 6))\n",
    "plt.plot(train_sizes, train_scores_mean,'r-+', label='Train')\n",
    "plt.plot(train_sizes, val_scores_mean, 'b-', label='Valid')\n",
    "plt.xlabel('Tamaño del conjunto de entrenamiento')\n",
    "plt.ylabel('AUC-ROC')\n",
    "plt.title('Curva de aprendizaje')\n",
    "plt.legend( fontsize=15 )\n",
    "plt.grid()\n",
    "plt.show()"
   ]
  },
  {
   "cell_type": "markdown",
   "metadata": {
    "id": "C368QTIEU-me"
   },
   "source": [
    "Los resultados muestran que las **curvas de aprendizaje no convergen completamente**, pero la diferencia entre ellas es mínima, aproximadamente **0.03** en el puntaje AUC.  \n",
    "\n",
    "Además, la **tendencia de las curvas** indica que, con más datos, podrían **converger en un valor cercano a 0.945 AUC**. Esto sugiere que el modelo **no está ni sobreajustado ni subajustado**, manteniendo un buen equilibrio entre **sesgo y varianza**.  \n",
    "\n",
    "Dado este análisis, podemos proceder con la **prueba final del modelo utilizando el conjunto de prueba**.  \n",
    "\n",
    "Es crucial realizar esta prueba solo al final del proceso. Si se utilizara antes, podríamos **introducir un sesgo inconsciente** en el ajuste del modelo, optimizándolo en exceso para este conjunto de datos específico. Esto llevaría a un modelo que solo es efectivo en el conjunto de prueba, pero **no generaliza bien a nuevos datos**, afectando su confiabilidad.  \n",
    "\n",
    "Al evaluar el modelo en este punto, garantizamos que su desempeño refleje **su verdadera capacidad predictiva en datos no vistos**."
   ]
  },
  {
   "cell_type": "code",
   "execution_count": 102,
   "metadata": {
    "colab": {
     "base_uri": "https://localhost:8080/"
    },
    "id": "Vpcre6nQV8NC",
    "outputId": "ed86921a-2de4-4e7e-bd75-ce9750bcef00"
   },
   "outputs": [
    {
     "name": "stdout",
     "output_type": "stream",
     "text": [
      "El score del modelo es: 0.9342118508350492\n"
     ]
    }
   ],
   "source": [
    "# Prueba del modelo con el conjunto test\n",
    "\n",
    "y_pred = final_model.predict_proba(X_test)\n",
    "\n",
    "y_pred = y_pred[:,1]\n",
    "\n",
    "auc_final = roc_auc_score(y_test, y_pred)\n",
    "\n",
    "print(f'El score del modelo es: {auc_final}')"
   ]
  },
  {
   "cell_type": "markdown",
   "metadata": {
    "id": "9yzVLsnFX2Qf"
   },
   "source": [
    "\n",
    "El modelo obtuvo un **AUC de 0.934** en el conjunto de test, lo que indica una **excelente capacidad de predicción**, incluso con datos no vistos previamente.  \n",
    "\n",
    "Este resultado confirma que **todas las etapas del desarrollo del modelo fueron implementadas correctamente**, incluyendo:  \n",
    "\n",
    "- **Limpieza y preparación de datos**  \n",
    "- **Ingeniería de características**  \n",
    "- **Selección del modelo**  \n",
    "- **Ajuste de hiperparámetros**  \n",
    "- **Evaluación del rendimiento**  \n",
    "\n",
    "Gracias a este enfoque estructurado, el modelo es **robusto, preciso y confiable**, demostrando su eficacia para la tarea de clasificación."
   ]
  },
  {
   "cell_type": "code",
   "execution_count": 104,
   "metadata": {
    "colab": {
     "base_uri": "https://localhost:8080/"
    },
    "id": "rsB_D8UEG0E2",
    "outputId": "b0802422-2406-4966-bfa0-6f54beea5a91"
   },
   "outputs": [
    {
     "data": {
      "image/png": "[encoded data removed]",
      "text/plain": [
       "<Figure size 600x600 with 1 Axes>"
      ]
     },
     "metadata": {},
     "output_type": "display_data"
    }
   ],
   "source": [
    "# Gráfica de la curva ROC\n",
    "from sklearn.metrics import roc_curve\n",
    "\n",
    "fpr, tpr, thresholds = roc_curve(y_test, y_pred)\n",
    "\n",
    "plt.figure(figsize=(6, 6))\n",
    "plt.plot(fpr, tpr, 'b-')\n",
    "plt.plot([0, 1], [0, 1], 'k--')\n",
    "plt.grid()\n",
    "plt.xlabel('False Positive Rate')\n",
    "plt.ylabel('True Positive Rate')\n",
    "plt.title('Curva ROC')\n",
    "plt.show()"
   ]
  },
  {
   "cell_type": "markdown",
   "metadata": {
    "id": "j5HjjKexZvOg"
   },
   "source": [
    "\n",
    "\n",
    "Además, la **curva ROC** respalda visualmente el desempeño del modelo, mostrando una separación clara entre las clases y validando su capacidad predictiva.  \n"
   ]
  },
  {
   "cell_type": "markdown",
   "metadata": {
    "id": "O7AaUaxAaxXu"
   },
   "source": [
    "## Conclusión\n",
    "\n",
    "A lo largo de este proyecto, hemos logrado desarrollar un modelo predictivo de **Churn** altamente eficaz, capaz de identificar a los clientes con mayor probabilidad de abandonar el servicio. Este modelo fue construido a partir de un conjunto de datos que contenía información sobre los clientes y sus servicios contratados, y pasó por diversas etapas para optimizar su rendimiento:\n",
    "\n",
    "1. **Preparación y limpieza de datos**: Tratamos los valores nulos, transformamos variables y creamos nuevas características para enriquecer la información disponible.\n",
    "2. **Ingeniería de características**: Identificamos y generamos nuevas variables que ayudaron a mejorar la capacidad predictiva del modelo.\n",
    "3. **Selección y ajuste del modelo**: Probamos varios algoritmos, encontrando que los modelos basados en árboles, como el **Gradient Boosting**, fueron los más adecuados para el conjunto de datos desbalanceado. Además, optimizamos sus hiperparámetros utilizando **RandomizedSearchCV**.\n",
    "4. **Evaluación del modelo**: Implementamos métricas robustas como el **AUC-ROC** y las **curvas de aprendizaje** para garantizar que el modelo generalizara correctamente y no sufriera de sobreajuste o subajuste.\n",
    "\n",
    "El modelo final alcanzó un **AUC de 0.934**, lo que demuestra un alto nivel de predicción, incluso con datos desconocidos. La curva ROC también mostró una excelente separación entre las clases, validando aún más la capacidad del modelo para clasificar correctamente a los clientes.\n",
    "\n",
    "Este resultado resalta el éxito de cada paso en el proceso de desarrollo y demuestra que, con las técnicas adecuadas y el enfoque correcto, es posible construir un modelo preciso y confiable para predecir el churn y ayudar a la empresa a retener a sus clientes más valiosos."
   ]
  },
  {
   "cell_type": "markdown",
   "metadata": {
    "id": "c_hG11I0POcL"
   },
   "source": [
    "# Pipeline\n",
    "\n",
    "En esta sección se desarrollará un **pipeline automatizado** para el procesamiento de datos, con el objetivo de preparar las entradas de forma eficiente y consistente. Este pipeline será esencial para garantizar que los datos se transformen correctamente antes de ser utilizados por el modelo.\n",
    "\n",
    "Dado que el modelo será desplegado mediante una **API**, la automatización del procesamiento permitirá integrar fácilmente el modelo en distintos entornos de producción, asegurando rapidez, escalabilidad y robustez en las predicciones."
   ]
  },
  {
   "cell_type": "markdown",
   "metadata": {
    "id": "BAvDvSjh_Kmz"
   },
   "source": [
    "### Consideraciones previas al desarrollo del pipeline\n",
    "\n",
    "Antes de comenzar a desarrollar el pipeline, es fundamental considerar el entorno en el que será utilizado. En este caso, el modelo será desplegado mediante una **API** que recibirá como entrada las cinco características más relevantes de cada cliente. Estas son:\n",
    "\n",
    "- Tiempo que el cliente ha permanecido con la compañía.  \n",
    "- Si el pago del servicio se realiza de forma mensual.  \n",
    "- Si el cliente tiene conexión de fibra óptica.  \n",
    "- Si el método de pago es mediante cheque electrónico.  \n",
    "- Si el cliente no cuenta con servicio de internet.  \n",
    "\n",
    "La API será consumida por una **página web**, la cual permitirá al usuario configurar manualmente estas características. El sistema está diseñado para realizar predicciones de un cliente a la vez, ya que su propósito será **exclusivamente demostrativo**.\n",
    "\n",
    "En un entorno real de producción, la plataforma permitiría la carga de archivos `.csv` con los datos de múltiples clientes para su procesamiento masivo. Posteriormente, esa información sería enviada a la API, la cual se encargaría de ejecutar el pipeline y devolver las predicciones correspondientes. Sin embargo, en este caso, el sistema está enfocado únicamente en la presentación de un prototipo funcional."
   ]
  },
  {
   "cell_type": "code",
   "execution_count": 109,
   "metadata": {
    "id": "Ny6zNNY1PBEf"
   },
   "outputs": [],
   "source": [
    "encoder = OneHotEncoder()\n",
    "df_encoded = pd.DataFrame(\n",
    "    # Transformamos todos los datos excepto el customerid y lo transformamos en un dataframe\n",
    "    encoder.fit_transform(df_final[df_final.iloc[:,1:].select_dtypes(include='object').columns]).toarray(),\n",
    "    columns=encoder.get_feature_names_out())"
   ]
  },
  {
   "cell_type": "code",
   "execution_count": 110,
   "metadata": {
    "id": "bfE_s56jSXN4"
   },
   "outputs": [],
   "source": [
    "df_encoded[ df_final.select_dtypes(include='number').columns] = df_final[ df_final.select_dtypes(include='number').columns]"
   ]
  },
  {
   "cell_type": "code",
   "execution_count": 111,
   "metadata": {
    "id": "gcKI8el5Smpo"
   },
   "outputs": [],
   "source": [
    "X_train, X_test, y_train, y_test = train_test_split(\n",
    "    df_encoded[main_features],\n",
    "    df_target,\n",
    "    test_size=0.10,\n",
    "    random_state=42)"
   ]
  },
  {
   "cell_type": "code",
   "execution_count": 112,
   "metadata": {
    "id": "Oemlt1bTRuqJ"
   },
   "outputs": [],
   "source": [
    "from sklearn.pipeline import make_pipeline\n",
    "from sklearn.impute import SimpleImputer \n",
    "from sklearn.compose import ColumnTransformer\n",
    "\n",
    "days_preprocesing = make_pipeline(\n",
    "    SimpleImputer(strategy='median'),\n",
    "    StandardScaler()\n",
    ")\n",
    "\n",
    "\n",
    "preprocessing = ColumnTransformer([\n",
    "  ('days', days_preprocesing, [0]),\n",
    "  ('categorical', SimpleImputer(strategy='most_frequent'), [1,2,3,4])\n",
    "  ])"
   ]
  },
  {
   "cell_type": "code",
   "execution_count": 113,
   "metadata": {
    "id": "P8P4bFcBTtiF"
   },
   "outputs": [],
   "source": [
    "full_pipeline = make_pipeline(\n",
    "    preprocessing,\n",
    "    GradientBoostingClassifier(random_state=42, **best_params)\n",
    ")"
   ]
  },
  {
   "cell_type": "code",
   "execution_count": 114,
   "metadata": {
    "colab": {
     "base_uri": "https://localhost:8080/",
     "height": 285
    },
    "id": "gW8nBTdgbDYi",
    "outputId": "acbc04a9-d37c-458c-e540-e94ed0053d4e"
   },
   "outputs": [
    {
     "data": {
      "text/html": [
       "<style>#sk-container-id-2 {\n",
       "  /* Definition of color scheme common for light and dark mode */\n",
       "  --sklearn-color-text: #000;\n",
       "  --sklearn-color-text-muted: #666;\n",
       "  --sklearn-color-line: gray;\n",
       "  /* Definition of color scheme for unfitted estimators */\n",
       "  --sklearn-color-unfitted-level-0: #fff5e6;\n",
       "  --sklearn-color-unfitted-level-1: #f6e4d2;\n",
       "  --sklearn-color-unfitted-level-2: #ffe0b3;\n",
       "  --sklearn-color-unfitted-level-3: chocolate;\n",
       "  /* Definition of color scheme for fitted estimators */\n",
       "  --sklearn-color-fitted-level-0: #f0f8ff;\n",
       "  --sklearn-color-fitted-level-1: #d4ebff;\n",
       "  --sklearn-color-fitted-level-2: #b3dbfd;\n",
       "  --sklearn-color-fitted-level-3: cornflowerblue;\n",
       "\n",
       "  /* Specific color for light theme */\n",
       "  --sklearn-color-text-on-default-background: var(--sg-text-color, var(--theme-code-foreground, var(--jp-content-font-color1, black)));\n",
       "  --sklearn-color-background: var(--sg-background-color, var(--theme-background, var(--jp-layout-color0, white)));\n",
       "  --sklearn-color-border-box: var(--sg-text-color, var(--theme-code-foreground, var(--jp-content-font-color1, black)));\n",
       "  --sklearn-color-icon: #696969;\n",
       "\n",
       "  @media (prefers-color-scheme: dark) {\n",
       "    /* Redefinition of color scheme for dark theme */\n",
       "    --sklearn-color-text-on-default-background: var(--sg-text-color, var(--theme-code-foreground, var(--jp-content-font-color1, white)));\n",
       "    --sklearn-color-background: var(--sg-background-color, var(--theme-background, var(--jp-layout-color0, #111)));\n",
       "    --sklearn-color-border-box: var(--sg-text-color, var(--theme-code-foreground, var(--jp-content-font-color1, white)));\n",
       "    --sklearn-color-icon: #878787;\n",
       "  }\n",
       "}\n",
       "\n",
       "#sk-container-id-2 {\n",
       "  color: var(--sklearn-color-text);\n",
       "}\n",
       "\n",
       "#sk-container-id-2 pre {\n",
       "  padding: 0;\n",
       "}\n",
       "\n",
       "#sk-container-id-2 input.sk-hidden--visually {\n",
       "  border: 0;\n",
       "  clip: rect(1px 1px 1px 1px);\n",
       "  clip: rect(1px, 1px, 1px, 1px);\n",
       "  height: 1px;\n",
       "  margin: -1px;\n",
       "  overflow: hidden;\n",
       "  padding: 0;\n",
       "  position: absolute;\n",
       "  width: 1px;\n",
       "}\n",
       "\n",
       "#sk-container-id-2 div.sk-dashed-wrapped {\n",
       "  border: 1px dashed var(--sklearn-color-line);\n",
       "  margin: 0 0.4em 0.5em 0.4em;\n",
       "  box-sizing: border-box;\n",
       "  padding-bottom: 0.4em;\n",
       "  background-color: var(--sklearn-color-background);\n",
       "}\n",
       "\n",
       "#sk-container-id-2 div.sk-container {\n",
       "  /* jupyter's `normalize.less` sets `[hidden] { display: none; }`\n",
       "     but bootstrap.min.css set `[hidden] { display: none !important; }`\n",
       "     so we also need the `!important` here to be able to override the\n",
       "     default hidden behavior on the sphinx rendered scikit-learn.org.\n",
       "     See: https://github.com/scikit-learn/scikit-learn/issues/21755 */\n",
       "  display: inline-block !important;\n",
       "  position: relative;\n",
       "}\n",
       "\n",
       "#sk-container-id-2 div.sk-text-repr-fallback {\n",
       "  display: none;\n",
       "}\n",
       "\n",
       "div.sk-parallel-item,\n",
       "div.sk-serial,\n",
       "div.sk-item {\n",
       "  /* draw centered vertical line to link estimators */\n",
       "  background-image: linear-gradient(var(--sklearn-color-text-on-default-background), var(--sklearn-color-text-on-default-background));\n",
       "  background-size: 2px 100%;\n",
       "  background-repeat: no-repeat;\n",
       "  background-position: center center;\n",
       "}\n",
       "\n",
       "/* Parallel-specific style estimator block */\n",
       "\n",
       "#sk-container-id-2 div.sk-parallel-item::after {\n",
       "  content: \"\";\n",
       "  width: 100%;\n",
       "  border-bottom: 2px solid var(--sklearn-color-text-on-default-background);\n",
       "  flex-grow: 1;\n",
       "}\n",
       "\n",
       "#sk-container-id-2 div.sk-parallel {\n",
       "  display: flex;\n",
       "  align-items: stretch;\n",
       "  justify-content: center;\n",
       "  background-color: var(--sklearn-color-background);\n",
       "  position: relative;\n",
       "}\n",
       "\n",
       "#sk-container-id-2 div.sk-parallel-item {\n",
       "  display: flex;\n",
       "  flex-direction: column;\n",
       "}\n",
       "\n",
       "#sk-container-id-2 div.sk-parallel-item:first-child::after {\n",
       "  align-self: flex-end;\n",
       "  width: 50%;\n",
       "}\n",
       "\n",
       "#sk-container-id-2 div.sk-parallel-item:last-child::after {\n",
       "  align-self: flex-start;\n",
       "  width: 50%;\n",
       "}\n",
       "\n",
       "#sk-container-id-2 div.sk-parallel-item:only-child::after {\n",
       "  width: 0;\n",
       "}\n",
       "\n",
       "/* Serial-specific style estimator block */\n",
       "\n",
       "#sk-container-id-2 div.sk-serial {\n",
       "  display: flex;\n",
       "  flex-direction: column;\n",
       "  align-items: center;\n",
       "  background-color: var(--sklearn-color-background);\n",
       "  padding-right: 1em;\n",
       "  padding-left: 1em;\n",
       "}\n",
       "\n",
       "\n",
       "/* Toggleable style: style used for estimator/Pipeline/ColumnTransformer box that is\n",
       "clickable and can be expanded/collapsed.\n",
       "- Pipeline and ColumnTransformer use this feature and define the default style\n",
       "- Estimators will overwrite some part of the style using the `sk-estimator` class\n",
       "*/\n",
       "\n",
       "/* Pipeline and ColumnTransformer style (default) */\n",
       "\n",
       "#sk-container-id-2 div.sk-toggleable {\n",
       "  /* Default theme specific background. It is overwritten whether we have a\n",
       "  specific estimator or a Pipeline/ColumnTransformer */\n",
       "  background-color: var(--sklearn-color-background);\n",
       "}\n",
       "\n",
       "/* Toggleable label */\n",
       "#sk-container-id-2 label.sk-toggleable__label {\n",
       "  cursor: pointer;\n",
       "  display: flex;\n",
       "  width: 100%;\n",
       "  margin-bottom: 0;\n",
       "  padding: 0.5em;\n",
       "  box-sizing: border-box;\n",
       "  text-align: center;\n",
       "  align-items: start;\n",
       "  justify-content: space-between;\n",
       "  gap: 0.5em;\n",
       "}\n",
       "\n",
       "#sk-container-id-2 label.sk-toggleable__label .caption {\n",
       "  font-size: 0.6rem;\n",
       "  font-weight: lighter;\n",
       "  color: var(--sklearn-color-text-muted);\n",
       "}\n",
       "\n",
       "#sk-container-id-2 label.sk-toggleable__label-arrow:before {\n",
       "  /* Arrow on the left of the label */\n",
       "  content: \"▸\";\n",
       "  float: left;\n",
       "  margin-right: 0.25em;\n",
       "  color: var(--sklearn-color-icon);\n",
       "}\n",
       "\n",
       "#sk-container-id-2 label.sk-toggleable__label-arrow:hover:before {\n",
       "  color: var(--sklearn-color-text);\n",
       "}\n",
       "\n",
       "/* Toggleable content - dropdown */\n",
       "\n",
       "#sk-container-id-2 div.sk-toggleable__content {\n",
       "  max-height: 0;\n",
       "  max-width: 0;\n",
       "  overflow: hidden;\n",
       "  text-align: left;\n",
       "  /* unfitted */\n",
       "  background-color: var(--sklearn-color-unfitted-level-0);\n",
       "}\n",
       "\n",
       "#sk-container-id-2 div.sk-toggleable__content.fitted {\n",
       "  /* fitted */\n",
       "  background-color: var(--sklearn-color-fitted-level-0);\n",
       "}\n",
       "\n",
       "#sk-container-id-2 div.sk-toggleable__content pre {\n",
       "  margin: 0.2em;\n",
       "  border-radius: 0.25em;\n",
       "  color: var(--sklearn-color-text);\n",
       "  /* unfitted */\n",
       "  background-color: var(--sklearn-color-unfitted-level-0);\n",
       "}\n",
       "\n",
       "#sk-container-id-2 div.sk-toggleable__content.fitted pre {\n",
       "  /* unfitted */\n",
       "  background-color: var(--sklearn-color-fitted-level-0);\n",
       "}\n",
       "\n",
       "#sk-container-id-2 input.sk-toggleable__control:checked~div.sk-toggleable__content {\n",
       "  /* Expand drop-down */\n",
       "  max-height: 200px;\n",
       "  max-width: 100%;\n",
       "  overflow: auto;\n",
       "}\n",
       "\n",
       "#sk-container-id-2 input.sk-toggleable__control:checked~label.sk-toggleable__label-arrow:before {\n",
       "  content: \"▾\";\n",
       "}\n",
       "\n",
       "/* Pipeline/ColumnTransformer-specific style */\n",
       "\n",
       "#sk-container-id-2 div.sk-label input.sk-toggleable__control:checked~label.sk-toggleable__label {\n",
       "  color: var(--sklearn-color-text);\n",
       "  background-color: var(--sklearn-color-unfitted-level-2);\n",
       "}\n",
       "\n",
       "#sk-container-id-2 div.sk-label.fitted input.sk-toggleable__control:checked~label.sk-toggleable__label {\n",
       "  background-color: var(--sklearn-color-fitted-level-2);\n",
       "}\n",
       "\n",
       "/* Estimator-specific style */\n",
       "\n",
       "/* Colorize estimator box */\n",
       "#sk-container-id-2 div.sk-estimator input.sk-toggleable__control:checked~label.sk-toggleable__label {\n",
       "  /* unfitted */\n",
       "  background-color: var(--sklearn-color-unfitted-level-2);\n",
       "}\n",
       "\n",
       "#sk-container-id-2 div.sk-estimator.fitted input.sk-toggleable__control:checked~label.sk-toggleable__label {\n",
       "  /* fitted */\n",
       "  background-color: var(--sklearn-color-fitted-level-2);\n",
       "}\n",
       "\n",
       "#sk-container-id-2 div.sk-label label.sk-toggleable__label,\n",
       "#sk-container-id-2 div.sk-label label {\n",
       "  /* The background is the default theme color */\n",
       "  color: var(--sklearn-color-text-on-default-background);\n",
       "}\n",
       "\n",
       "/* On hover, darken the color of the background */\n",
       "#sk-container-id-2 div.sk-label:hover label.sk-toggleable__label {\n",
       "  color: var(--sklearn-color-text);\n",
       "  background-color: var(--sklearn-color-unfitted-level-2);\n",
       "}\n",
       "\n",
       "/* Label box, darken color on hover, fitted */\n",
       "#sk-container-id-2 div.sk-label.fitted:hover label.sk-toggleable__label.fitted {\n",
       "  color: var(--sklearn-color-text);\n",
       "  background-color: var(--sklearn-color-fitted-level-2);\n",
       "}\n",
       "\n",
       "/* Estimator label */\n",
       "\n",
       "#sk-container-id-2 div.sk-label label {\n",
       "  font-family: monospace;\n",
       "  font-weight: bold;\n",
       "  display: inline-block;\n",
       "  line-height: 1.2em;\n",
       "}\n",
       "\n",
       "#sk-container-id-2 div.sk-label-container {\n",
       "  text-align: center;\n",
       "}\n",
       "\n",
       "/* Estimator-specific */\n",
       "#sk-container-id-2 div.sk-estimator {\n",
       "  font-family: monospace;\n",
       "  border: 1px dotted var(--sklearn-color-border-box);\n",
       "  border-radius: 0.25em;\n",
       "  box-sizing: border-box;\n",
       "  margin-bottom: 0.5em;\n",
       "  /* unfitted */\n",
       "  background-color: var(--sklearn-color-unfitted-level-0);\n",
       "}\n",
       "\n",
       "#sk-container-id-2 div.sk-estimator.fitted {\n",
       "  /* fitted */\n",
       "  background-color: var(--sklearn-color-fitted-level-0);\n",
       "}\n",
       "\n",
       "/* on hover */\n",
       "#sk-container-id-2 div.sk-estimator:hover {\n",
       "  /* unfitted */\n",
       "  background-color: var(--sklearn-color-unfitted-level-2);\n",
       "}\n",
       "\n",
       "#sk-container-id-2 div.sk-estimator.fitted:hover {\n",
       "  /* fitted */\n",
       "  background-color: var(--sklearn-color-fitted-level-2);\n",
       "}\n",
       "\n",
       "/* Specification for estimator info (e.g. \"i\" and \"?\") */\n",
       "\n",
       "/* Common style for \"i\" and \"?\" */\n",
       "\n",
       ".sk-estimator-doc-link,\n",
       "a:link.sk-estimator-doc-link,\n",
       "a:visited.sk-estimator-doc-link {\n",
       "  float: right;\n",
       "  font-size: smaller;\n",
       "  line-height: 1em;\n",
       "  font-family: monospace;\n",
       "  background-color: var(--sklearn-color-background);\n",
       "  border-radius: 1em;\n",
       "  height: 1em;\n",
       "  width: 1em;\n",
       "  text-decoration: none !important;\n",
       "  margin-left: 0.5em;\n",
       "  text-align: center;\n",
       "  /* unfitted */\n",
       "  border: var(--sklearn-color-unfitted-level-1) 1pt solid;\n",
       "  color: var(--sklearn-color-unfitted-level-1);\n",
       "}\n",
       "\n",
       ".sk-estimator-doc-link.fitted,\n",
       "a:link.sk-estimator-doc-link.fitted,\n",
       "a:visited.sk-estimator-doc-link.fitted {\n",
       "  /* fitted */\n",
       "  border: var(--sklearn-color-fitted-level-1) 1pt solid;\n",
       "  color: var(--sklearn-color-fitted-level-1);\n",
       "}\n",
       "\n",
       "/* On hover */\n",
       "div.sk-estimator:hover .sk-estimator-doc-link:hover,\n",
       ".sk-estimator-doc-link:hover,\n",
       "div.sk-label-container:hover .sk-estimator-doc-link:hover,\n",
       ".sk-estimator-doc-link:hover {\n",
       "  /* unfitted */\n",
       "  background-color: var(--sklearn-color-unfitted-level-3);\n",
       "  color: var(--sklearn-color-background);\n",
       "  text-decoration: none;\n",
       "}\n",
       "\n",
       "div.sk-estimator.fitted:hover .sk-estimator-doc-link.fitted:hover,\n",
       ".sk-estimator-doc-link.fitted:hover,\n",
       "div.sk-label-container:hover .sk-estimator-doc-link.fitted:hover,\n",
       ".sk-estimator-doc-link.fitted:hover {\n",
       "  /* fitted */\n",
       "  background-color: var(--sklearn-color-fitted-level-3);\n",
       "  color: var(--sklearn-color-background);\n",
       "  text-decoration: none;\n",
       "}\n",
       "\n",
       "/* Span, style for the box shown on hovering the info icon */\n",
       ".sk-estimator-doc-link span {\n",
       "  display: none;\n",
       "  z-index: 9999;\n",
       "  position: relative;\n",
       "  font-weight: normal;\n",
       "  right: .2ex;\n",
       "  padding: .5ex;\n",
       "  margin: .5ex;\n",
       "  width: min-content;\n",
       "  min-width: 20ex;\n",
       "  max-width: 50ex;\n",
       "  color: var(--sklearn-color-text);\n",
       "  box-shadow: 2pt 2pt 4pt #999;\n",
       "  /* unfitted */\n",
       "  background: var(--sklearn-color-unfitted-level-0);\n",
       "  border: .5pt solid var(--sklearn-color-unfitted-level-3);\n",
       "}\n",
       "\n",
       ".sk-estimator-doc-link.fitted span {\n",
       "  /* fitted */\n",
       "  background: var(--sklearn-color-fitted-level-0);\n",
       "  border: var(--sklearn-color-fitted-level-3);\n",
       "}\n",
       "\n",
       ".sk-estimator-doc-link:hover span {\n",
       "  display: block;\n",
       "}\n",
       "\n",
       "/* \"?\"-specific style due to the `<a>` HTML tag */\n",
       "\n",
       "#sk-container-id-2 a.estimator_doc_link {\n",
       "  float: right;\n",
       "  font-size: 1rem;\n",
       "  line-height: 1em;\n",
       "  font-family: monospace;\n",
       "  background-color: var(--sklearn-color-background);\n",
       "  border-radius: 1rem;\n",
       "  height: 1rem;\n",
       "  width: 1rem;\n",
       "  text-decoration: none;\n",
       "  /* unfitted */\n",
       "  color: var(--sklearn-color-unfitted-level-1);\n",
       "  border: var(--sklearn-color-unfitted-level-1) 1pt solid;\n",
       "}\n",
       "\n",
       "#sk-container-id-2 a.estimator_doc_link.fitted {\n",
       "  /* fitted */\n",
       "  border: var(--sklearn-color-fitted-level-1) 1pt solid;\n",
       "  color: var(--sklearn-color-fitted-level-1);\n",
       "}\n",
       "\n",
       "/* On hover */\n",
       "#sk-container-id-2 a.estimator_doc_link:hover {\n",
       "  /* unfitted */\n",
       "  background-color: var(--sklearn-color-unfitted-level-3);\n",
       "  color: var(--sklearn-color-background);\n",
       "  text-decoration: none;\n",
       "}\n",
       "\n",
       "#sk-container-id-2 a.estimator_doc_link.fitted:hover {\n",
       "  /* fitted */\n",
       "  background-color: var(--sklearn-color-fitted-level-3);\n",
       "}\n",
       "</style><div id=\"sk-container-id-2\" class=\"sk-top-container\"><div class=\"sk-text-repr-fallback\"><pre>Pipeline(steps=[(&#x27;columntransformer&#x27;,\n",
       "                 ColumnTransformer(transformers=[(&#x27;days&#x27;,\n",
       "                                                  Pipeline(steps=[(&#x27;simpleimputer&#x27;,\n",
       "                                                                   SimpleImputer(strategy=&#x27;median&#x27;)),\n",
       "                                                                  (&#x27;standardscaler&#x27;,\n",
       "                                                                   StandardScaler())]),\n",
       "                                                  [0]),\n",
       "                                                 (&#x27;categorical&#x27;,\n",
       "                                                  SimpleImputer(strategy=&#x27;most_frequent&#x27;),\n",
       "                                                  [1, 2, 3, 4])])),\n",
       "                (&#x27;gradientboostingclassifier&#x27;,\n",
       "                 GradientBoostingClassifier(learning_rate=0.5012,\n",
       "                                            min_samples_leaf=3,\n",
       "                                            min_samples_split=33,\n",
       "                                            n_estimators=276,\n",
       "                                            random_state=42))])</pre><b>In a Jupyter environment, please rerun this cell to show the HTML representation or trust the notebook. <br />On GitHub, the HTML representation is unable to render, please try loading this page with nbviewer.org.</b></div><div class=\"sk-container\" hidden><div class=\"sk-item sk-dashed-wrapped\"><div class=\"sk-label-container\"><div class=\"sk-label fitted sk-toggleable\"><input class=\"sk-toggleable__control sk-hidden--visually\" id=\"sk-estimator-id-2\" type=\"checkbox\" ><label for=\"sk-estimator-id-2\" class=\"sk-toggleable__label fitted sk-toggleable__label-arrow\"><div><div>Pipeline</div></div><div><a class=\"sk-estimator-doc-link fitted\" rel=\"noreferrer\" target=\"_blank\" href=\"https://scikit-learn.org/1.6/modules/generated/sklearn.pipeline.Pipeline.html\">?<span>Documentation for Pipeline</span></a><span class=\"sk-estimator-doc-link fitted\">i<span>Fitted</span></span></div></label><div class=\"sk-toggleable__content fitted\"><pre>Pipeline(steps=[(&#x27;columntransformer&#x27;,\n",
       "                 ColumnTransformer(transformers=[(&#x27;days&#x27;,\n",
       "                                                  Pipeline(steps=[(&#x27;simpleimputer&#x27;,\n",
       "                                                                   SimpleImputer(strategy=&#x27;median&#x27;)),\n",
       "                                                                  (&#x27;standardscaler&#x27;,\n",
       "                                                                   StandardScaler())]),\n",
       "                                                  [0]),\n",
       "                                                 (&#x27;categorical&#x27;,\n",
       "                                                  SimpleImputer(strategy=&#x27;most_frequent&#x27;),\n",
       "                                                  [1, 2, 3, 4])])),\n",
       "                (&#x27;gradientboostingclassifier&#x27;,\n",
       "                 GradientBoostingClassifier(learning_rate=0.5012,\n",
       "                                            min_samples_leaf=3,\n",
       "                                            min_samples_split=33,\n",
       "                                            n_estimators=276,\n",
       "                                            random_state=42))])</pre></div> </div></div><div class=\"sk-serial\"><div class=\"sk-item sk-dashed-wrapped\"><div class=\"sk-label-container\"><div class=\"sk-label fitted sk-toggleable\"><input class=\"sk-toggleable__control sk-hidden--visually\" id=\"sk-estimator-id-3\" type=\"checkbox\" ><label for=\"sk-estimator-id-3\" class=\"sk-toggleable__label fitted sk-toggleable__label-arrow\"><div><div>columntransformer: ColumnTransformer</div></div><div><a class=\"sk-estimator-doc-link fitted\" rel=\"noreferrer\" target=\"_blank\" href=\"https://scikit-learn.org/1.6/modules/generated/sklearn.compose.ColumnTransformer.html\">?<span>Documentation for columntransformer: ColumnTransformer</span></a></div></label><div class=\"sk-toggleable__content fitted\"><pre>ColumnTransformer(transformers=[(&#x27;days&#x27;,\n",
       "                                 Pipeline(steps=[(&#x27;simpleimputer&#x27;,\n",
       "                                                  SimpleImputer(strategy=&#x27;median&#x27;)),\n",
       "                                                 (&#x27;standardscaler&#x27;,\n",
       "                                                  StandardScaler())]),\n",
       "                                 [0]),\n",
       "                                (&#x27;categorical&#x27;,\n",
       "                                 SimpleImputer(strategy=&#x27;most_frequent&#x27;),\n",
       "                                 [1, 2, 3, 4])])</pre></div> </div></div><div class=\"sk-parallel\"><div class=\"sk-parallel-item\"><div class=\"sk-item\"><div class=\"sk-label-container\"><div class=\"sk-label fitted sk-toggleable\"><input class=\"sk-toggleable__control sk-hidden--visually\" id=\"sk-estimator-id-4\" type=\"checkbox\" ><label for=\"sk-estimator-id-4\" class=\"sk-toggleable__label fitted sk-toggleable__label-arrow\"><div><div>days</div></div></label><div class=\"sk-toggleable__content fitted\"><pre>[0]</pre></div> </div></div><div class=\"sk-serial\"><div class=\"sk-item\"><div class=\"sk-serial\"><div class=\"sk-item\"><div class=\"sk-estimator fitted sk-toggleable\"><input class=\"sk-toggleable__control sk-hidden--visually\" id=\"sk-estimator-id-5\" type=\"checkbox\" ><label for=\"sk-estimator-id-5\" class=\"sk-toggleable__label fitted sk-toggleable__label-arrow\"><div><div>SimpleImputer</div></div><div><a class=\"sk-estimator-doc-link fitted\" rel=\"noreferrer\" target=\"_blank\" href=\"https://scikit-learn.org/1.6/modules/generated/sklearn.impute.SimpleImputer.html\">?<span>Documentation for SimpleImputer</span></a></div></label><div class=\"sk-toggleable__content fitted\"><pre>SimpleImputer(strategy=&#x27;median&#x27;)</pre></div> </div></div><div class=\"sk-item\"><div class=\"sk-estimator fitted sk-toggleable\"><input class=\"sk-toggleable__control sk-hidden--visually\" id=\"sk-estimator-id-6\" type=\"checkbox\" ><label for=\"sk-estimator-id-6\" class=\"sk-toggleable__label fitted sk-toggleable__label-arrow\"><div><div>StandardScaler</div></div><div><a class=\"sk-estimator-doc-link fitted\" rel=\"noreferrer\" target=\"_blank\" href=\"https://scikit-learn.org/1.6/modules/generated/sklearn.preprocessing.StandardScaler.html\">?<span>Documentation for StandardScaler</span></a></div></label><div class=\"sk-toggleable__content fitted\"><pre>StandardScaler()</pre></div> </div></div></div></div></div></div></div><div class=\"sk-parallel-item\"><div class=\"sk-item\"><div class=\"sk-label-container\"><div class=\"sk-label fitted sk-toggleable\"><input class=\"sk-toggleable__control sk-hidden--visually\" id=\"sk-estimator-id-7\" type=\"checkbox\" ><label for=\"sk-estimator-id-7\" class=\"sk-toggleable__label fitted sk-toggleable__label-arrow\"><div><div>categorical</div></div></label><div class=\"sk-toggleable__content fitted\"><pre>[1, 2, 3, 4]</pre></div> </div></div><div class=\"sk-serial\"><div class=\"sk-item\"><div class=\"sk-estimator fitted sk-toggleable\"><input class=\"sk-toggleable__control sk-hidden--visually\" id=\"sk-estimator-id-8\" type=\"checkbox\" ><label for=\"sk-estimator-id-8\" class=\"sk-toggleable__label fitted sk-toggleable__label-arrow\"><div><div>SimpleImputer</div></div><div><a class=\"sk-estimator-doc-link fitted\" rel=\"noreferrer\" target=\"_blank\" href=\"https://scikit-learn.org/1.6/modules/generated/sklearn.impute.SimpleImputer.html\">?<span>Documentation for SimpleImputer</span></a></div></label><div class=\"sk-toggleable__content fitted\"><pre>SimpleImputer(strategy=&#x27;most_frequent&#x27;)</pre></div> </div></div></div></div></div></div></div><div class=\"sk-item\"><div class=\"sk-estimator fitted sk-toggleable\"><input class=\"sk-toggleable__control sk-hidden--visually\" id=\"sk-estimator-id-9\" type=\"checkbox\" ><label for=\"sk-estimator-id-9\" class=\"sk-toggleable__label fitted sk-toggleable__label-arrow\"><div><div>GradientBoostingClassifier</div></div><div><a class=\"sk-estimator-doc-link fitted\" rel=\"noreferrer\" target=\"_blank\" href=\"https://scikit-learn.org/1.6/modules/generated/sklearn.ensemble.GradientBoostingClassifier.html\">?<span>Documentation for GradientBoostingClassifier</span></a></div></label><div class=\"sk-toggleable__content fitted\"><pre>GradientBoostingClassifier(learning_rate=0.5012, min_samples_leaf=3,\n",
       "                           min_samples_split=33, n_estimators=276,\n",
       "                           random_state=42)</pre></div> </div></div></div></div></div></div>"
      ],
      "text/plain": [
       "Pipeline(steps=[('columntransformer',\n",
       "                 ColumnTransformer(transformers=[('days',\n",
       "                                                  Pipeline(steps=[('simpleimputer',\n",
       "                                                                   SimpleImputer(strategy='median')),\n",
       "                                                                  ('standardscaler',\n",
       "                                                                   StandardScaler())]),\n",
       "                                                  [0]),\n",
       "                                                 ('categorical',\n",
       "                                                  SimpleImputer(strategy='most_frequent'),\n",
       "                                                  [1, 2, 3, 4])])),\n",
       "                ('gradientboostingclassifier',\n",
       "                 GradientBoostingClassifier(learning_rate=0.5012,\n",
       "                                            min_samples_leaf=3,\n",
       "                                            min_samples_split=33,\n",
       "                                            n_estimators=276,\n",
       "                                            random_state=42))])"
      ]
     },
     "execution_count": 114,
     "metadata": {},
     "output_type": "execute_result"
    }
   ],
   "source": [
    "full_pipeline.fit( X_train.values, y_train.values )"
   ]
  },
  {
   "cell_type": "code",
   "execution_count": 115,
   "metadata": {
    "id": "YztdYTt0b6QY"
   },
   "outputs": [],
   "source": [
    "predictions = full_pipeline.predict_proba( X_test.values )"
   ]
  },
  {
   "cell_type": "code",
   "execution_count": 116,
   "metadata": {
    "colab": {
     "base_uri": "https://localhost:8080/"
    },
    "id": "Wzqp6WNfcDmG",
    "outputId": "0c6b9690-be76-4c02-a51e-293829ea4bf8"
   },
   "outputs": [
    {
     "data": {
      "text/plain": [
       "0.9445598886355842"
      ]
     },
     "execution_count": 116,
     "metadata": {},
     "output_type": "execute_result"
    }
   ],
   "source": [
    "test_auc = roc_auc_score( y_test, predictions[:,1])\n",
    "test_auc"
   ]
  },
  {
   "cell_type": "code",
   "execution_count": 117,
   "metadata": {
    "colab": {
     "base_uri": "https://localhost:8080/"
    },
    "id": "H6_freDiK2Fi",
    "outputId": "5662e4fa-aa16-4915-b5a5-cb1f99fff593"
   },
   "outputs": [
    {
     "data": {
      "text/plain": [
       "array([1], dtype=int64)"
      ]
     },
     "execution_count": 117,
     "metadata": {},
     "output_type": "execute_result"
    }
   ],
   "source": [
    "#Predecimos una instancia de prueba\n",
    "\n",
    "instance = [[30.,  1.,  0.,  1.,  0.]]\n",
    "\n",
    "full_pipeline.predict( instance)"
   ]
  },
  {
   "cell_type": "code",
   "execution_count": 118,
   "metadata": {
    "colab": {
     "base_uri": "https://localhost:8080/"
    },
    "id": "JeqnFHL_TQ6X",
    "outputId": "781944a0-00a3-4aa3-e889-2b234a96a103"
   },
   "outputs": [
    {
     "data": {
      "text/plain": [
       "['model_churn.pkl']"
      ]
     },
     "execution_count": 118,
     "metadata": {},
     "output_type": "execute_result"
    }
   ],
   "source": [
    "#Guardamos el modelo serializado\n",
    "import joblib\n",
    "\n",
    "joblib.dump( full_pipeline, 'model_churn.pkl')"
   ]
  }
 ],
 "metadata": {
  "colab": {
   "collapsed_sections": [
    "d-73RjBGlU1C",
    "3LhnO0Nf4Rsz",
    "cqEK0QWE_pSx",
    "NCS-cXKhAcvO",
    "3QKtdAy2WCss"
   ],
   "provenance": []
  },
  "kernelspec": {
   "display_name": "Python [conda env:base] *",
   "language": "python",
   "name": "conda-base-py"
  },
  "language_info": {
   "codemirror_mode": {
    "name": "ipython",
    "version": 3
   },
   "file_extension": ".py",
   "mimetype": "text/x-python",
   "name": "python",
   "nbconvert_exporter": "python",
   "pygments_lexer": "ipython3",
   "version": "3.11.7"
  }
 },
 "nbformat": 4,
 "nbformat_minor": 4
}
